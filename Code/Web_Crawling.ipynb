{
 "cells": [
  {
   "cell_type": "markdown",
   "id": "1dc6110c-5bdc-469f-b1aa-50cd53249016",
   "metadata": {},
   "source": [
    "# Web crawling "
   ]
  },
  {
   "cell_type": "markdown",
   "id": "767b7657-65ac-4575-b4ff-14a94db6f8f8",
   "metadata": {},
   "source": [
    "In this notebook we will crawl the following data from steam:\n",
    "- game name\n",
    "- game url\n",
    "- describtion\n",
    "- tags\n",
    "- developer\n",
    "- publisher\n",
    "- rating\n",
    "- number of ratings\n",
    "- price\n",
    "- reviews\n"
   ]
  },
  {
   "cell_type": "markdown",
   "id": "caa14ab9-12b4-4bdd-9035-c1afadeb2e2c",
   "metadata": {},
   "source": [
    "## Imports"
   ]
  },
  {
   "cell_type": "code",
   "execution_count": null,
   "id": "dd6d9688-a0f4-4ff1-8493-83b664d88963",
   "metadata": {},
   "outputs": [],
   "source": [
    "import pandas as pd\n",
    "import numpy as np\n",
    "\n",
    "import requests\n",
    "import time, os\n",
    "\n",
    "import datetime\n",
    "\n",
    "from selenium import webdriver\n",
    "from selenium.webdriver.common.keys import Keys\n",
    "from bs4 import BeautifulSoup"
   ]
  },
  {
   "cell_type": "markdown",
   "id": "f0f2221e-1877-409c-8ac8-25fb16ff3e60",
   "metadata": {},
   "source": [
    "## Plan"
   ]
  },
  {
   "cell_type": "code",
   "execution_count": null,
   "id": "2d4614c3-e2ad-4035-9000-1b91e62cd69e",
   "metadata": {},
   "outputs": [],
   "source": []
  }
 ],
 "metadata": {
  "kernelspec": {
   "display_name": "Python 3 (ipykernel)",
   "language": "python",
   "name": "python3"
  },
  "language_info": {
   "codemirror_mode": {
    "name": "ipython",
    "version": 3
   },
   "file_extension": ".py",
   "mimetype": "text/x-python",
   "name": "python",
   "nbconvert_exporter": "python",
   "pygments_lexer": "ipython3",
   "version": "3.8.11"
  }
 },
 "nbformat": 4,
 "nbformat_minor": 5
}
