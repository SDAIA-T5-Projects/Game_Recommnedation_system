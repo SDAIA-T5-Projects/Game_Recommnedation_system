{
 "cells": [
  {
   "cell_type": "markdown",
   "id": "aeeae759-8a46-4922-83cd-2cabc2c81a1a",
   "metadata": {},
   "source": [
    "## EDA"
   ]
  },
  {
   "cell_type": "markdown",
   "id": "08b64132-190c-48e0-820f-74c4723ff712",
   "metadata": {
    "tags": []
   },
   "source": [
    "In this notebook, we are going to explore the steam and users data."
   ]
  },
  {
   "cell_type": "code",
   "execution_count": null,
   "id": "d09b0e92-a9f0-48f7-999e-2510f3406b2b",
   "metadata": {},
   "outputs": [],
   "source": []
  }
 ],
 "metadata": {
  "kernelspec": {
   "display_name": "Python 3 (ipykernel)",
   "language": "python",
   "name": "python3"
  },
  "language_info": {
   "codemirror_mode": {
    "name": "ipython",
    "version": 3
   },
   "file_extension": ".py",
   "mimetype": "text/x-python",
   "name": "python",
   "nbconvert_exporter": "python",
   "pygments_lexer": "ipython3",
   "version": "3.8.11"
  }
 },
 "nbformat": 4,
 "nbformat_minor": 5
}
