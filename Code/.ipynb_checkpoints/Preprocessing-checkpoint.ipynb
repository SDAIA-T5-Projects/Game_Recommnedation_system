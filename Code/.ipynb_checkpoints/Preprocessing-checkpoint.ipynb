{
 "cells": [
  {
   "cell_type": "markdown",
   "id": "cb35e7ba",
   "metadata": {},
   "source": [
    "# Imports"
   ]
  },
  {
   "cell_type": "code",
   "execution_count": 1,
   "id": "141db5ce",
   "metadata": {
    "collapsed": true,
    "jupyter": {
     "outputs_hidden": true
    }
   },
   "outputs": [
    {
     "name": "stdout",
     "output_type": "stream",
     "text": [
      "Requirement already satisfied: nltk in /Users/muntaha/opt/anaconda3/lib/python3.8/site-packages (3.6.1)\n",
      "Requirement already satisfied: joblib in /Users/muntaha/opt/anaconda3/lib/python3.8/site-packages (from nltk) (1.0.1)\n",
      "Requirement already satisfied: regex in /Users/muntaha/opt/anaconda3/lib/python3.8/site-packages (from nltk) (2021.4.4)\n",
      "Requirement already satisfied: click in /Users/muntaha/opt/anaconda3/lib/python3.8/site-packages (from nltk) (7.1.2)\n",
      "Requirement already satisfied: tqdm in /Users/muntaha/opt/anaconda3/lib/python3.8/site-packages (from nltk) (4.59.0)\n"
     ]
    }
   ],
   "source": [
    "# Import nltk if not\n",
    "# !pip install nltk"
   ]
  },
  {
   "cell_type": "code",
   "execution_count": 3,
   "id": "1428bfda",
   "metadata": {},
   "outputs": [],
   "source": [
    "import numpy as np\n",
    "import pandas as pd\n",
    "import matplotlib.pyplot as plt\n",
    "from sklearn.feature_extraction.text import TfidfVectorizer,CountVectorizer"
   ]
  },
  {
   "cell_type": "markdown",
   "id": "49ee6692",
   "metadata": {},
   "source": [
    "# Read datasets"
   ]
  },
  {
   "cell_type": "code",
   "execution_count": 4,
   "id": "1981f708",
   "metadata": {},
   "outputs": [],
   "source": [
    "game_steam_df = pd.read_csv('/Users/muntaha/Documents/Project4/games_steam.csv', index_col=0)\n",
    "game_content_df = pd.read_csv('/Users/muntaha/Documents/Project4/game_text_content.csv', index_col=0)\n",
    "game_users_df = pd.read_csv('/Users/muntaha/Documents/Project4/users_steam.csv', index_col=0)"
   ]
  },
  {
   "cell_type": "code",
   "execution_count": 6,
   "id": "95d34859",
   "metadata": {},
   "outputs": [
    {
     "data": {
      "text/html": [
       "<div>\n",
       "<style scoped>\n",
       "    .dataframe tbody tr th:only-of-type {\n",
       "        vertical-align: middle;\n",
       "    }\n",
       "\n",
       "    .dataframe tbody tr th {\n",
       "        vertical-align: top;\n",
       "    }\n",
       "\n",
       "    .dataframe thead th {\n",
       "        text-align: right;\n",
       "    }\n",
       "</style>\n",
       "<table border=\"1\" class=\"dataframe\">\n",
       "  <thead>\n",
       "    <tr style=\"text-align: right;\">\n",
       "      <th></th>\n",
       "      <th>name</th>\n",
       "      <th>categories</th>\n",
       "      <th>img_url</th>\n",
       "      <th>user_reviews</th>\n",
       "      <th>all_reviews</th>\n",
       "      <th>date</th>\n",
       "      <th>developer</th>\n",
       "      <th>publisher</th>\n",
       "      <th>price</th>\n",
       "      <th>pegi</th>\n",
       "      <th>pegi_url</th>\n",
       "    </tr>\n",
       "    <tr>\n",
       "      <th>url</th>\n",
       "      <th></th>\n",
       "      <th></th>\n",
       "      <th></th>\n",
       "      <th></th>\n",
       "      <th></th>\n",
       "      <th></th>\n",
       "      <th></th>\n",
       "      <th></th>\n",
       "      <th></th>\n",
       "      <th></th>\n",
       "      <th></th>\n",
       "    </tr>\n",
       "  </thead>\n",
       "  <tbody>\n",
       "    <tr>\n",
       "      <th>https://store.steampowered.com/app/945360/Among_Us/?snr=1_7_7_230_150_1</th>\n",
       "      <td>Among Us</td>\n",
       "      <td>Online PvPLAN PvPOnline Co-opLAN Co-opCross-Pl...</td>\n",
       "      <td>https://steamcdn-a.akamaihd.net/steam/apps/945...</td>\n",
       "      <td>Overwhelmingly Positive(151,281)- 96% of the 1...</td>\n",
       "      <td>Overwhelmingly Positive(224,878)- 95% of the 2...</td>\n",
       "      <td>Nov 16, 2018</td>\n",
       "      <td>Innersloth</td>\n",
       "      <td>Innersloth</td>\n",
       "      <td>Buy Among Us$4.99Add to Cart</td>\n",
       "      <td>-</td>\n",
       "      <td>-</td>\n",
       "    </tr>\n",
       "    <tr>\n",
       "      <th>https://store.steampowered.com/app/730/CounterStrike_Global_Offensive/?snr=1_7_7_230_150_1</th>\n",
       "      <td>Counter-Strike: Global Offensive</td>\n",
       "      <td>Steam AchievementsFull controller supportSteam...</td>\n",
       "      <td>https://steamcdn-a.akamaihd.net/steam/apps/730...</td>\n",
       "      <td>Very Positive(90,780)- 88% of the 90,780 user ...</td>\n",
       "      <td>Very Positive(4,843,904)- 87% of the 4,843,904...</td>\n",
       "      <td>Aug 21, 2012</td>\n",
       "      <td>Valve, Hidden Path Entertainment</td>\n",
       "      <td>Valve</td>\n",
       "      <td>Play Counter-Strike: Global OffensiveFree to P...</td>\n",
       "      <td>-</td>\n",
       "      <td>-</td>\n",
       "    </tr>\n",
       "    <tr>\n",
       "      <th>https://store.steampowered.com/app/1097150/Fall_Guys_Ultimate_Knockout/?snr=1_7_7_230_150_1</th>\n",
       "      <td>Fall Guys: Ultimate Knockout</td>\n",
       "      <td>MMOOnline PvPOnline Co-opSteam AchievementsFul...</td>\n",
       "      <td>https://steamcdn-a.akamaihd.net/steam/apps/109...</td>\n",
       "      <td>Very Positive(32,436)- 84% of the 32,436 user ...</td>\n",
       "      <td>Very Positive(223,706)- 80% of the 223,706 use...</td>\n",
       "      <td>Aug 3, 2020</td>\n",
       "      <td>Mediatonic</td>\n",
       "      <td>Devolver Digital</td>\n",
       "      <td>Buy Fall Guys$19.99Add to Cart</td>\n",
       "      <td>-</td>\n",
       "      <td>-</td>\n",
       "    </tr>\n",
       "    <tr>\n",
       "      <th>https://store.steampowered.com/app/1158310/Crusader_Kings_III/?snr=1_7_7_230_150_1</th>\n",
       "      <td>Crusader Kings III</td>\n",
       "      <td>Single-playerOnline PvPSteam AchievementsSteam...</td>\n",
       "      <td>https://steamcdn-a.akamaihd.net/steam/apps/115...</td>\n",
       "      <td>Very Positive(5,359)- 91% of the 5,359 user re...</td>\n",
       "      <td>Very Positive(18,951)- 92% of the 18,951 user ...</td>\n",
       "      <td>Sep 1, 2020</td>\n",
       "      <td>Paradox Development Studio</td>\n",
       "      <td>Paradox Interactive</td>\n",
       "      <td>Buy Crusader Kings III$49.99Add to Cart</td>\n",
       "      <td>BloodLanguagePartial NuditySexual ThemesUse of...</td>\n",
       "      <td>https://steamstore-a.akamaihd.net/public/share...</td>\n",
       "    </tr>\n",
       "    <tr>\n",
       "      <th>https://store.steampowered.com/app/1085660/Destiny_2/?snr=1_7_7_230_150_1</th>\n",
       "      <td>Destiny 2</td>\n",
       "      <td>Single-playerOnline PvPOnline Co-opSteam Achie...</td>\n",
       "      <td>https://steamcdn-a.akamaihd.net/steam/apps/108...</td>\n",
       "      <td>Very Positive(9,147)- 87% of the 9,147 user re...</td>\n",
       "      <td>Very Positive(284,689)- 86% of the 284,689 use...</td>\n",
       "      <td>Oct 1, 2019</td>\n",
       "      <td>Bungie</td>\n",
       "      <td>Bungie</td>\n",
       "      <td>Play Destiny 2Free To PlayPlay Game</td>\n",
       "      <td>Blood Language Violence</td>\n",
       "      <td>https://steamstore-a.akamaihd.net/public/share...</td>\n",
       "    </tr>\n",
       "  </tbody>\n",
       "</table>\n",
       "</div>"
      ],
      "text/plain": [
       "                                                                                name  \\\n",
       "url                                                                                    \n",
       "https://store.steampowered.com/app/945360/Among...                          Among Us   \n",
       "https://store.steampowered.com/app/730/CounterS...  Counter-Strike: Global Offensive   \n",
       "https://store.steampowered.com/app/1097150/Fall...      Fall Guys: Ultimate Knockout   \n",
       "https://store.steampowered.com/app/1158310/Crus...                Crusader Kings III   \n",
       "https://store.steampowered.com/app/1085660/Dest...                         Destiny 2   \n",
       "\n",
       "                                                                                           categories  \\\n",
       "url                                                                                                     \n",
       "https://store.steampowered.com/app/945360/Among...  Online PvPLAN PvPOnline Co-opLAN Co-opCross-Pl...   \n",
       "https://store.steampowered.com/app/730/CounterS...  Steam AchievementsFull controller supportSteam...   \n",
       "https://store.steampowered.com/app/1097150/Fall...  MMOOnline PvPOnline Co-opSteam AchievementsFul...   \n",
       "https://store.steampowered.com/app/1158310/Crus...  Single-playerOnline PvPSteam AchievementsSteam...   \n",
       "https://store.steampowered.com/app/1085660/Dest...  Single-playerOnline PvPOnline Co-opSteam Achie...   \n",
       "\n",
       "                                                                                              img_url  \\\n",
       "url                                                                                                     \n",
       "https://store.steampowered.com/app/945360/Among...  https://steamcdn-a.akamaihd.net/steam/apps/945...   \n",
       "https://store.steampowered.com/app/730/CounterS...  https://steamcdn-a.akamaihd.net/steam/apps/730...   \n",
       "https://store.steampowered.com/app/1097150/Fall...  https://steamcdn-a.akamaihd.net/steam/apps/109...   \n",
       "https://store.steampowered.com/app/1158310/Crus...  https://steamcdn-a.akamaihd.net/steam/apps/115...   \n",
       "https://store.steampowered.com/app/1085660/Dest...  https://steamcdn-a.akamaihd.net/steam/apps/108...   \n",
       "\n",
       "                                                                                         user_reviews  \\\n",
       "url                                                                                                     \n",
       "https://store.steampowered.com/app/945360/Among...  Overwhelmingly Positive(151,281)- 96% of the 1...   \n",
       "https://store.steampowered.com/app/730/CounterS...  Very Positive(90,780)- 88% of the 90,780 user ...   \n",
       "https://store.steampowered.com/app/1097150/Fall...  Very Positive(32,436)- 84% of the 32,436 user ...   \n",
       "https://store.steampowered.com/app/1158310/Crus...  Very Positive(5,359)- 91% of the 5,359 user re...   \n",
       "https://store.steampowered.com/app/1085660/Dest...  Very Positive(9,147)- 87% of the 9,147 user re...   \n",
       "\n",
       "                                                                                          all_reviews  \\\n",
       "url                                                                                                     \n",
       "https://store.steampowered.com/app/945360/Among...  Overwhelmingly Positive(224,878)- 95% of the 2...   \n",
       "https://store.steampowered.com/app/730/CounterS...  Very Positive(4,843,904)- 87% of the 4,843,904...   \n",
       "https://store.steampowered.com/app/1097150/Fall...  Very Positive(223,706)- 80% of the 223,706 use...   \n",
       "https://store.steampowered.com/app/1158310/Crus...  Very Positive(18,951)- 92% of the 18,951 user ...   \n",
       "https://store.steampowered.com/app/1085660/Dest...  Very Positive(284,689)- 86% of the 284,689 use...   \n",
       "\n",
       "                                                            date  \\\n",
       "url                                                                \n",
       "https://store.steampowered.com/app/945360/Among...  Nov 16, 2018   \n",
       "https://store.steampowered.com/app/730/CounterS...  Aug 21, 2012   \n",
       "https://store.steampowered.com/app/1097150/Fall...   Aug 3, 2020   \n",
       "https://store.steampowered.com/app/1158310/Crus...   Sep 1, 2020   \n",
       "https://store.steampowered.com/app/1085660/Dest...   Oct 1, 2019   \n",
       "\n",
       "                                                                           developer  \\\n",
       "url                                                                                    \n",
       "https://store.steampowered.com/app/945360/Among...                        Innersloth   \n",
       "https://store.steampowered.com/app/730/CounterS...  Valve, Hidden Path Entertainment   \n",
       "https://store.steampowered.com/app/1097150/Fall...                        Mediatonic   \n",
       "https://store.steampowered.com/app/1158310/Crus...        Paradox Development Studio   \n",
       "https://store.steampowered.com/app/1085660/Dest...                            Bungie   \n",
       "\n",
       "                                                              publisher  \\\n",
       "url                                                                       \n",
       "https://store.steampowered.com/app/945360/Among...           Innersloth   \n",
       "https://store.steampowered.com/app/730/CounterS...                Valve   \n",
       "https://store.steampowered.com/app/1097150/Fall...     Devolver Digital   \n",
       "https://store.steampowered.com/app/1158310/Crus...  Paradox Interactive   \n",
       "https://store.steampowered.com/app/1085660/Dest...              Bungie    \n",
       "\n",
       "                                                                                                price  \\\n",
       "url                                                                                                     \n",
       "https://store.steampowered.com/app/945360/Among...                       Buy Among Us$4.99Add to Cart   \n",
       "https://store.steampowered.com/app/730/CounterS...  Play Counter-Strike: Global OffensiveFree to P...   \n",
       "https://store.steampowered.com/app/1097150/Fall...                     Buy Fall Guys$19.99Add to Cart   \n",
       "https://store.steampowered.com/app/1158310/Crus...            Buy Crusader Kings III$49.99Add to Cart   \n",
       "https://store.steampowered.com/app/1085660/Dest...                Play Destiny 2Free To PlayPlay Game   \n",
       "\n",
       "                                                                                                 pegi  \\\n",
       "url                                                                                                     \n",
       "https://store.steampowered.com/app/945360/Among...                                                  -   \n",
       "https://store.steampowered.com/app/730/CounterS...                                                  -   \n",
       "https://store.steampowered.com/app/1097150/Fall...                                                  -   \n",
       "https://store.steampowered.com/app/1158310/Crus...  BloodLanguagePartial NuditySexual ThemesUse of...   \n",
       "https://store.steampowered.com/app/1085660/Dest...                            Blood Language Violence   \n",
       "\n",
       "                                                                                             pegi_url  \n",
       "url                                                                                                    \n",
       "https://store.steampowered.com/app/945360/Among...                                                  -  \n",
       "https://store.steampowered.com/app/730/CounterS...                                                  -  \n",
       "https://store.steampowered.com/app/1097150/Fall...                                                  -  \n",
       "https://store.steampowered.com/app/1158310/Crus...  https://steamstore-a.akamaihd.net/public/share...  \n",
       "https://store.steampowered.com/app/1085660/Dest...  https://steamstore-a.akamaihd.net/public/share...  "
      ]
     },
     "execution_count": 6,
     "metadata": {},
     "output_type": "execute_result"
    }
   ],
   "source": [
    "game_steam_df.head()"
   ]
  },
  {
   "cell_type": "code",
   "execution_count": null,
   "id": "ff90e556",
   "metadata": {},
   "outputs": [],
   "source": [
    "game_steam_df"
   ]
  },
  {
   "cell_type": "markdown",
   "id": "140a3bc5-99f2-4676-ad4e-b0eb386b1b0b",
   "metadata": {},
   "source": [
    "# Data cleaning "
   ]
  },
  {
   "cell_type": "markdown",
   "id": "83fb640d-3ebb-4881-a1da-52e5befc0d87",
   "metadata": {},
   "source": [
    "- Users data have a weird column (last column), let's explore it and delete it if necessary."
   ]
  },
  {
   "cell_type": "code",
   "execution_count": 9,
   "id": "2f89f708-c6ff-4c5a-b4a2-b6f97386ebd9",
   "metadata": {},
   "outputs": [
    {
     "data": {
      "text/plain": [
       "count    200000.0\n",
       "mean          0.0\n",
       "std           0.0\n",
       "min           0.0\n",
       "25%           0.0\n",
       "50%           0.0\n",
       "75%           0.0\n",
       "max           0.0\n",
       "Name: to_delete, dtype: float64"
      ]
     },
     "execution_count": 9,
     "metadata": {},
     "output_type": "execute_result"
    }
   ],
   "source": [
    "game_users_df.to_delete.describe()"
   ]
  },
  {
   "cell_type": "code",
   "execution_count": 10,
   "id": "d297a75e-d20f-42fc-8dbd-c2a9bbc4f515",
   "metadata": {},
   "outputs": [],
   "source": [
    "game_users_df.drop(columns=['to_delete'], inplace=True)"
   ]
  },
  {
   "cell_type": "code",
   "execution_count": 12,
   "id": "99686fec-2d91-4b79-96d7-18130141b120",
   "metadata": {},
   "outputs": [
    {
     "data": {
      "text/html": [
       "<div>\n",
       "<style scoped>\n",
       "    .dataframe tbody tr th:only-of-type {\n",
       "        vertical-align: middle;\n",
       "    }\n",
       "\n",
       "    .dataframe tbody tr th {\n",
       "        vertical-align: top;\n",
       "    }\n",
       "\n",
       "    .dataframe thead th {\n",
       "        text-align: right;\n",
       "    }\n",
       "</style>\n",
       "<table border=\"1\" class=\"dataframe\">\n",
       "  <thead>\n",
       "    <tr style=\"text-align: right;\">\n",
       "      <th></th>\n",
       "      <th>id</th>\n",
       "      <th>game_name</th>\n",
       "      <th>behavior</th>\n",
       "      <th>played_hours</th>\n",
       "    </tr>\n",
       "  </thead>\n",
       "  <tbody>\n",
       "    <tr>\n",
       "      <th>0</th>\n",
       "      <td>151603712</td>\n",
       "      <td>The Elder Scrolls V Skyrim</td>\n",
       "      <td>purchase</td>\n",
       "      <td>1.0</td>\n",
       "    </tr>\n",
       "    <tr>\n",
       "      <th>1</th>\n",
       "      <td>151603712</td>\n",
       "      <td>The Elder Scrolls V Skyrim</td>\n",
       "      <td>play</td>\n",
       "      <td>273.0</td>\n",
       "    </tr>\n",
       "    <tr>\n",
       "      <th>2</th>\n",
       "      <td>151603712</td>\n",
       "      <td>Fallout 4</td>\n",
       "      <td>purchase</td>\n",
       "      <td>1.0</td>\n",
       "    </tr>\n",
       "    <tr>\n",
       "      <th>3</th>\n",
       "      <td>151603712</td>\n",
       "      <td>Fallout 4</td>\n",
       "      <td>play</td>\n",
       "      <td>87.0</td>\n",
       "    </tr>\n",
       "    <tr>\n",
       "      <th>4</th>\n",
       "      <td>151603712</td>\n",
       "      <td>Spore</td>\n",
       "      <td>purchase</td>\n",
       "      <td>1.0</td>\n",
       "    </tr>\n",
       "  </tbody>\n",
       "</table>\n",
       "</div>"
      ],
      "text/plain": [
       "          id                   game_name  behavior  played_hours\n",
       "0  151603712  The Elder Scrolls V Skyrim  purchase           1.0\n",
       "1  151603712  The Elder Scrolls V Skyrim      play         273.0\n",
       "2  151603712                   Fallout 4  purchase           1.0\n",
       "3  151603712                   Fallout 4      play          87.0\n",
       "4  151603712                       Spore  purchase           1.0"
      ]
     },
     "execution_count": 12,
     "metadata": {},
     "output_type": "execute_result"
    }
   ],
   "source": [
    "game_users_df.head()"
   ]
  },
  {
   "cell_type": "markdown",
   "id": "768f5e82-b5ea-49d5-b5d2-ca70b791bf71",
   "metadata": {},
   "source": [
    "- turns out it consists only of zeros, so we have to drop it.\n",
    "- additionally, the played hours conatins innacurate information. Purchasd games should have zero hours."
   ]
  },
  {
   "cell_type": "code",
   "execution_count": 26,
   "id": "eb28fe4f-7d4a-4f04-ba93-7837a513a5fa",
   "metadata": {},
   "outputs": [],
   "source": [
    "game_users_df.loc[game_users_df.behavior == 'purchase', 'played_hours'] = 0"
   ]
  },
  {
   "cell_type": "code",
   "execution_count": 27,
   "id": "642005c0-fbc5-4c55-86f7-1fa896182635",
   "metadata": {},
   "outputs": [
    {
     "data": {
      "text/html": [
       "<div>\n",
       "<style scoped>\n",
       "    .dataframe tbody tr th:only-of-type {\n",
       "        vertical-align: middle;\n",
       "    }\n",
       "\n",
       "    .dataframe tbody tr th {\n",
       "        vertical-align: top;\n",
       "    }\n",
       "\n",
       "    .dataframe thead th {\n",
       "        text-align: right;\n",
       "    }\n",
       "</style>\n",
       "<table border=\"1\" class=\"dataframe\">\n",
       "  <thead>\n",
       "    <tr style=\"text-align: right;\">\n",
       "      <th></th>\n",
       "      <th>id</th>\n",
       "      <th>game_name</th>\n",
       "      <th>behavior</th>\n",
       "      <th>played_hours</th>\n",
       "    </tr>\n",
       "  </thead>\n",
       "  <tbody>\n",
       "    <tr>\n",
       "      <th>0</th>\n",
       "      <td>151603712</td>\n",
       "      <td>The Elder Scrolls V Skyrim</td>\n",
       "      <td>purchase</td>\n",
       "      <td>0.0</td>\n",
       "    </tr>\n",
       "    <tr>\n",
       "      <th>1</th>\n",
       "      <td>151603712</td>\n",
       "      <td>The Elder Scrolls V Skyrim</td>\n",
       "      <td>play</td>\n",
       "      <td>273.0</td>\n",
       "    </tr>\n",
       "    <tr>\n",
       "      <th>2</th>\n",
       "      <td>151603712</td>\n",
       "      <td>Fallout 4</td>\n",
       "      <td>purchase</td>\n",
       "      <td>0.0</td>\n",
       "    </tr>\n",
       "    <tr>\n",
       "      <th>3</th>\n",
       "      <td>151603712</td>\n",
       "      <td>Fallout 4</td>\n",
       "      <td>play</td>\n",
       "      <td>87.0</td>\n",
       "    </tr>\n",
       "    <tr>\n",
       "      <th>4</th>\n",
       "      <td>151603712</td>\n",
       "      <td>Spore</td>\n",
       "      <td>purchase</td>\n",
       "      <td>0.0</td>\n",
       "    </tr>\n",
       "  </tbody>\n",
       "</table>\n",
       "</div>"
      ],
      "text/plain": [
       "          id                   game_name  behavior  played_hours\n",
       "0  151603712  The Elder Scrolls V Skyrim  purchase           0.0\n",
       "1  151603712  The Elder Scrolls V Skyrim      play         273.0\n",
       "2  151603712                   Fallout 4  purchase           0.0\n",
       "3  151603712                   Fallout 4      play          87.0\n",
       "4  151603712                       Spore  purchase           0.0"
      ]
     },
     "execution_count": 27,
     "metadata": {},
     "output_type": "execute_result"
    }
   ],
   "source": [
    "game_users_df.head()"
   ]
  },
  {
   "cell_type": "markdown",
   "id": "325fb309-2cb6-4161-8ff9-d6fcbf189f43",
   "metadata": {},
   "source": [
    "#### Save cleaned data to a dataframe"
   ]
  },
  {
   "cell_type": "code",
   "execution_count": 28,
   "id": "07433ac7-e3bd-490f-8ed2-a64de8eb0d18",
   "metadata": {},
   "outputs": [],
   "source": [
    "game_users_df.to_csv(r\"..\\Data\\users.csv\")"
   ]
  }
 ],
 "metadata": {
  "kernelspec": {
   "display_name": "Python 3 (ipykernel)",
   "language": "python",
   "name": "python3"
  },
  "language_info": {
   "codemirror_mode": {
    "name": "ipython",
    "version": 3
   },
   "file_extension": ".py",
   "mimetype": "text/x-python",
   "name": "python",
   "nbconvert_exporter": "python",
   "pygments_lexer": "ipython3",
   "version": "3.8.11"
  }
 },
 "nbformat": 4,
 "nbformat_minor": 5
}
