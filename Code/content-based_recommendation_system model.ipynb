{
 "cells": [
  {
   "cell_type": "markdown",
   "id": "b89f982e",
   "metadata": {},
   "source": [
    "# Imports"
   ]
  },
  {
   "cell_type": "code",
   "execution_count": 1,
   "id": "f024a813",
   "metadata": {},
   "outputs": [],
   "source": [
    "# Import nltk if not\n",
    "# !pip install nltk"
   ]
  },
  {
   "cell_type": "code",
   "execution_count": 57,
   "id": "197bcbbe",
   "metadata": {},
   "outputs": [],
   "source": [
    "import numpy as np\n",
    "import pandas as pd\n",
    "import matplotlib.pyplot as plt\n",
    "import re\n",
    "import string\n",
    "from sklearn.feature_extraction.text import TfidfVectorizer,CountVectorizer\n",
    "from sklearn.metrics.pairwise import sigmoid_kernel, paired_cosine_distances, cosine_similarity, linear_kernel\n",
    "from nltk.corpus import stopwords\n",
    "import nltk\n",
    "import pickle"
   ]
  },
  {
   "cell_type": "markdown",
   "id": "6ebb8a01",
   "metadata": {},
   "source": [
    "# read datasets"
   ]
  },
  {
   "cell_type": "code",
   "execution_count": 5,
   "id": "5d193ce2",
   "metadata": {
    "scrolled": true
   },
   "outputs": [],
   "source": [
    "game_steam_df = pd.read_csv(\"/Users/muntaha/Documents/Project4_v2/new_game_data/steam.csv\")\n",
    "steam_description_df = pd.read_csv(\"/Users/muntaha/Documents/Project4_v2/new_game_data/steam_description_data.csv\")\n"
   ]
  },
  {
   "cell_type": "code",
   "execution_count": 6,
   "id": "67335887",
   "metadata": {
    "collapsed": true
   },
   "outputs": [
    {
     "data": {
      "text/html": [
       "<div>\n",
       "<style scoped>\n",
       "    .dataframe tbody tr th:only-of-type {\n",
       "        vertical-align: middle;\n",
       "    }\n",
       "\n",
       "    .dataframe tbody tr th {\n",
       "        vertical-align: top;\n",
       "    }\n",
       "\n",
       "    .dataframe thead th {\n",
       "        text-align: right;\n",
       "    }\n",
       "</style>\n",
       "<table border=\"1\" class=\"dataframe\">\n",
       "  <thead>\n",
       "    <tr style=\"text-align: right;\">\n",
       "      <th></th>\n",
       "      <th>steam_appid</th>\n",
       "      <th>detailed_description</th>\n",
       "      <th>about_the_game</th>\n",
       "      <th>short_description</th>\n",
       "    </tr>\n",
       "  </thead>\n",
       "  <tbody>\n",
       "    <tr>\n",
       "      <th>0</th>\n",
       "      <td>10</td>\n",
       "      <td>Play the world's number 1 online action game. ...</td>\n",
       "      <td>Play the world's number 1 online action game. ...</td>\n",
       "      <td>Play the world's number 1 online action game. ...</td>\n",
       "    </tr>\n",
       "    <tr>\n",
       "      <th>1</th>\n",
       "      <td>20</td>\n",
       "      <td>One of the most popular online action games of...</td>\n",
       "      <td>One of the most popular online action games of...</td>\n",
       "      <td>One of the most popular online action games of...</td>\n",
       "    </tr>\n",
       "    <tr>\n",
       "      <th>2</th>\n",
       "      <td>30</td>\n",
       "      <td>Enlist in an intense brand of Axis vs. Allied ...</td>\n",
       "      <td>Enlist in an intense brand of Axis vs. Allied ...</td>\n",
       "      <td>Enlist in an intense brand of Axis vs. Allied ...</td>\n",
       "    </tr>\n",
       "    <tr>\n",
       "      <th>3</th>\n",
       "      <td>40</td>\n",
       "      <td>Enjoy fast-paced multiplayer gaming with Death...</td>\n",
       "      <td>Enjoy fast-paced multiplayer gaming with Death...</td>\n",
       "      <td>Enjoy fast-paced multiplayer gaming with Death...</td>\n",
       "    </tr>\n",
       "    <tr>\n",
       "      <th>4</th>\n",
       "      <td>50</td>\n",
       "      <td>Return to the Black Mesa Research Facility as ...</td>\n",
       "      <td>Return to the Black Mesa Research Facility as ...</td>\n",
       "      <td>Return to the Black Mesa Research Facility as ...</td>\n",
       "    </tr>\n",
       "  </tbody>\n",
       "</table>\n",
       "</div>"
      ],
      "text/plain": [
       "   steam_appid                               detailed_description  \\\n",
       "0           10  Play the world's number 1 online action game. ...   \n",
       "1           20  One of the most popular online action games of...   \n",
       "2           30  Enlist in an intense brand of Axis vs. Allied ...   \n",
       "3           40  Enjoy fast-paced multiplayer gaming with Death...   \n",
       "4           50  Return to the Black Mesa Research Facility as ...   \n",
       "\n",
       "                                      about_the_game  \\\n",
       "0  Play the world's number 1 online action game. ...   \n",
       "1  One of the most popular online action games of...   \n",
       "2  Enlist in an intense brand of Axis vs. Allied ...   \n",
       "3  Enjoy fast-paced multiplayer gaming with Death...   \n",
       "4  Return to the Black Mesa Research Facility as ...   \n",
       "\n",
       "                                   short_description  \n",
       "0  Play the world's number 1 online action game. ...  \n",
       "1  One of the most popular online action games of...  \n",
       "2  Enlist in an intense brand of Axis vs. Allied ...  \n",
       "3  Enjoy fast-paced multiplayer gaming with Death...  \n",
       "4  Return to the Black Mesa Research Facility as ...  "
      ]
     },
     "execution_count": 6,
     "metadata": {},
     "output_type": "execute_result"
    }
   ],
   "source": [
    "steam_description_df.head()"
   ]
  },
  {
   "cell_type": "markdown",
   "id": "e8ca2145",
   "metadata": {},
   "source": [
    "# Preprocessing "
   ]
  },
  {
   "cell_type": "markdown",
   "id": "211fbf58",
   "metadata": {},
   "source": [
    "### 1)  Data cleaning"
   ]
  },
  {
   "cell_type": "code",
   "execution_count": 7,
   "id": "18086630",
   "metadata": {
    "collapsed": true
   },
   "outputs": [
    {
     "name": "stdout",
     "output_type": "stream",
     "text": [
      "False\n"
     ]
    },
    {
     "data": {
      "text/plain": [
       "False"
      ]
     },
     "execution_count": 7,
     "metadata": {},
     "output_type": "execute_result"
    }
   ],
   "source": [
    "# check any duplicated\n",
    "print(game_steam_df.duplicated().any())\n",
    "steam_description_df.duplicated().any()"
   ]
  },
  {
   "cell_type": "code",
   "execution_count": 8,
   "id": "8b009f0f",
   "metadata": {
    "collapsed": true
   },
   "outputs": [
    {
     "data": {
      "text/html": [
       "<div>\n",
       "<style scoped>\n",
       "    .dataframe tbody tr th:only-of-type {\n",
       "        vertical-align: middle;\n",
       "    }\n",
       "\n",
       "    .dataframe tbody tr th {\n",
       "        vertical-align: top;\n",
       "    }\n",
       "\n",
       "    .dataframe thead th {\n",
       "        text-align: right;\n",
       "    }\n",
       "</style>\n",
       "<table border=\"1\" class=\"dataframe\">\n",
       "  <thead>\n",
       "    <tr style=\"text-align: right;\">\n",
       "      <th></th>\n",
       "      <th>appid</th>\n",
       "      <th>name</th>\n",
       "      <th>release_date</th>\n",
       "      <th>english</th>\n",
       "      <th>developer</th>\n",
       "      <th>publisher</th>\n",
       "      <th>platforms</th>\n",
       "      <th>required_age</th>\n",
       "      <th>categories</th>\n",
       "      <th>genres</th>\n",
       "      <th>steamspy_tags</th>\n",
       "      <th>achievements</th>\n",
       "      <th>average_playtime</th>\n",
       "      <th>median_playtime</th>\n",
       "      <th>owners</th>\n",
       "      <th>price</th>\n",
       "      <th>total_ratings</th>\n",
       "      <th>percent_positive_ratings</th>\n",
       "    </tr>\n",
       "  </thead>\n",
       "  <tbody>\n",
       "    <tr>\n",
       "      <th>0</th>\n",
       "      <td>10</td>\n",
       "      <td>Counter-Strike</td>\n",
       "      <td>2000-11-01</td>\n",
       "      <td>1</td>\n",
       "      <td>Valve</td>\n",
       "      <td>Valve</td>\n",
       "      <td>windows;mac;linux</td>\n",
       "      <td>0</td>\n",
       "      <td>Multi-player;Online Multi-Player;Local Multi-P...</td>\n",
       "      <td>Action</td>\n",
       "      <td>Action;FPS;Multiplayer</td>\n",
       "      <td>0</td>\n",
       "      <td>17612</td>\n",
       "      <td>317</td>\n",
       "      <td>10000000-20000000</td>\n",
       "      <td>7.19</td>\n",
       "      <td>127873</td>\n",
       "      <td>0.973888</td>\n",
       "    </tr>\n",
       "    <tr>\n",
       "      <th>1</th>\n",
       "      <td>20</td>\n",
       "      <td>Team Fortress Classic</td>\n",
       "      <td>1999-04-01</td>\n",
       "      <td>1</td>\n",
       "      <td>Valve</td>\n",
       "      <td>Valve</td>\n",
       "      <td>windows;mac;linux</td>\n",
       "      <td>0</td>\n",
       "      <td>Multi-player;Online Multi-Player;Local Multi-P...</td>\n",
       "      <td>Action</td>\n",
       "      <td>Action;FPS;Multiplayer</td>\n",
       "      <td>0</td>\n",
       "      <td>277</td>\n",
       "      <td>62</td>\n",
       "      <td>5000000-10000000</td>\n",
       "      <td>3.99</td>\n",
       "      <td>3951</td>\n",
       "      <td>0.839787</td>\n",
       "    </tr>\n",
       "    <tr>\n",
       "      <th>2</th>\n",
       "      <td>30</td>\n",
       "      <td>Day of Defeat</td>\n",
       "      <td>2003-05-01</td>\n",
       "      <td>1</td>\n",
       "      <td>Valve</td>\n",
       "      <td>Valve</td>\n",
       "      <td>windows;mac;linux</td>\n",
       "      <td>0</td>\n",
       "      <td>Multi-player;Valve Anti-Cheat enabled</td>\n",
       "      <td>Action</td>\n",
       "      <td>FPS;World War II;Multiplayer</td>\n",
       "      <td>0</td>\n",
       "      <td>187</td>\n",
       "      <td>34</td>\n",
       "      <td>5000000-10000000</td>\n",
       "      <td>3.99</td>\n",
       "      <td>3814</td>\n",
       "      <td>0.895648</td>\n",
       "    </tr>\n",
       "  </tbody>\n",
       "</table>\n",
       "</div>"
      ],
      "text/plain": [
       "   appid                   name release_date  english developer publisher  \\\n",
       "0     10         Counter-Strike   2000-11-01        1     Valve     Valve   \n",
       "1     20  Team Fortress Classic   1999-04-01        1     Valve     Valve   \n",
       "2     30          Day of Defeat   2003-05-01        1     Valve     Valve   \n",
       "\n",
       "           platforms  required_age  \\\n",
       "0  windows;mac;linux             0   \n",
       "1  windows;mac;linux             0   \n",
       "2  windows;mac;linux             0   \n",
       "\n",
       "                                          categories  genres  \\\n",
       "0  Multi-player;Online Multi-Player;Local Multi-P...  Action   \n",
       "1  Multi-player;Online Multi-Player;Local Multi-P...  Action   \n",
       "2              Multi-player;Valve Anti-Cheat enabled  Action   \n",
       "\n",
       "                  steamspy_tags  achievements  average_playtime  \\\n",
       "0        Action;FPS;Multiplayer             0             17612   \n",
       "1        Action;FPS;Multiplayer             0               277   \n",
       "2  FPS;World War II;Multiplayer             0               187   \n",
       "\n",
       "   median_playtime             owners  price  total_ratings  \\\n",
       "0              317  10000000-20000000   7.19         127873   \n",
       "1               62   5000000-10000000   3.99           3951   \n",
       "2               34   5000000-10000000   3.99           3814   \n",
       "\n",
       "   percent_positive_ratings  \n",
       "0                  0.973888  \n",
       "1                  0.839787  \n",
       "2                  0.895648  "
      ]
     },
     "execution_count": 8,
     "metadata": {},
     "output_type": "execute_result"
    }
   ],
   "source": [
    "# Calculate percentage of positive reviews and total reviews\n",
    "game_steam_df['total_ratings'] = game_steam_df['positive_ratings'] + game_steam_df['negative_ratings']\n",
    "game_steam_df['percent_positive_ratings'] = game_steam_df['positive_ratings'] / game_steam_df['total_ratings']\n",
    "game_steam_df.drop(['positive_ratings','negative_ratings'],axis=1,inplace=True)\n",
    "game_steam_df.head(3)"
   ]
  },
  {
   "cell_type": "code",
   "execution_count": 28,
   "id": "1a001f9b",
   "metadata": {},
   "outputs": [],
   "source": [
    "# change col name so we can merge on the appid\n",
    "new_data = steam_description_df.rename(index=str, columns={\"steam_appid\":\"appid\"})\n",
    "#merge two datasets\n",
    "merge_dataset = game_steam_df.merge(new_data, on=\"appid\")"
   ]
  },
  {
   "cell_type": "code",
   "execution_count": 29,
   "id": "fc69e4b9",
   "metadata": {
    "collapsed": true
   },
   "outputs": [
    {
     "data": {
      "text/html": [
       "<div>\n",
       "<style scoped>\n",
       "    .dataframe tbody tr th:only-of-type {\n",
       "        vertical-align: middle;\n",
       "    }\n",
       "\n",
       "    .dataframe tbody tr th {\n",
       "        vertical-align: top;\n",
       "    }\n",
       "\n",
       "    .dataframe thead th {\n",
       "        text-align: right;\n",
       "    }\n",
       "</style>\n",
       "<table border=\"1\" class=\"dataframe\">\n",
       "  <thead>\n",
       "    <tr style=\"text-align: right;\">\n",
       "      <th></th>\n",
       "      <th>appid</th>\n",
       "      <th>name</th>\n",
       "      <th>categories</th>\n",
       "      <th>genres</th>\n",
       "      <th>steamspy_tags</th>\n",
       "      <th>average_playtime</th>\n",
       "      <th>median_playtime</th>\n",
       "      <th>price</th>\n",
       "      <th>total_ratings</th>\n",
       "      <th>percent_positive_ratings</th>\n",
       "      <th>detailed_description</th>\n",
       "    </tr>\n",
       "  </thead>\n",
       "  <tbody>\n",
       "    <tr>\n",
       "      <th>0</th>\n",
       "      <td>10</td>\n",
       "      <td>Counter-Strike</td>\n",
       "      <td>Multi-player;Online Multi-Player;Local Multi-P...</td>\n",
       "      <td>Action</td>\n",
       "      <td>Action;FPS;Multiplayer</td>\n",
       "      <td>17612</td>\n",
       "      <td>317</td>\n",
       "      <td>7.19</td>\n",
       "      <td>127873</td>\n",
       "      <td>0.973888</td>\n",
       "      <td>Play the world's number 1 online action game. ...</td>\n",
       "    </tr>\n",
       "    <tr>\n",
       "      <th>1</th>\n",
       "      <td>20</td>\n",
       "      <td>Team Fortress Classic</td>\n",
       "      <td>Multi-player;Online Multi-Player;Local Multi-P...</td>\n",
       "      <td>Action</td>\n",
       "      <td>Action;FPS;Multiplayer</td>\n",
       "      <td>277</td>\n",
       "      <td>62</td>\n",
       "      <td>3.99</td>\n",
       "      <td>3951</td>\n",
       "      <td>0.839787</td>\n",
       "      <td>One of the most popular online action games of...</td>\n",
       "    </tr>\n",
       "    <tr>\n",
       "      <th>2</th>\n",
       "      <td>30</td>\n",
       "      <td>Day of Defeat</td>\n",
       "      <td>Multi-player;Valve Anti-Cheat enabled</td>\n",
       "      <td>Action</td>\n",
       "      <td>FPS;World War II;Multiplayer</td>\n",
       "      <td>187</td>\n",
       "      <td>34</td>\n",
       "      <td>3.99</td>\n",
       "      <td>3814</td>\n",
       "      <td>0.895648</td>\n",
       "      <td>Enlist in an intense brand of Axis vs. Allied ...</td>\n",
       "    </tr>\n",
       "    <tr>\n",
       "      <th>3</th>\n",
       "      <td>40</td>\n",
       "      <td>Deathmatch Classic</td>\n",
       "      <td>Multi-player;Online Multi-Player;Local Multi-P...</td>\n",
       "      <td>Action</td>\n",
       "      <td>Action;FPS;Multiplayer</td>\n",
       "      <td>258</td>\n",
       "      <td>184</td>\n",
       "      <td>3.99</td>\n",
       "      <td>1540</td>\n",
       "      <td>0.826623</td>\n",
       "      <td>Enjoy fast-paced multiplayer gaming with Death...</td>\n",
       "    </tr>\n",
       "    <tr>\n",
       "      <th>4</th>\n",
       "      <td>50</td>\n",
       "      <td>Half-Life: Opposing Force</td>\n",
       "      <td>Single-player;Multi-player;Valve Anti-Cheat en...</td>\n",
       "      <td>Action</td>\n",
       "      <td>FPS;Action;Sci-fi</td>\n",
       "      <td>624</td>\n",
       "      <td>415</td>\n",
       "      <td>3.99</td>\n",
       "      <td>5538</td>\n",
       "      <td>0.947996</td>\n",
       "      <td>Return to the Black Mesa Research Facility as ...</td>\n",
       "    </tr>\n",
       "    <tr>\n",
       "      <th>...</th>\n",
       "      <td>...</td>\n",
       "      <td>...</td>\n",
       "      <td>...</td>\n",
       "      <td>...</td>\n",
       "      <td>...</td>\n",
       "      <td>...</td>\n",
       "      <td>...</td>\n",
       "      <td>...</td>\n",
       "      <td>...</td>\n",
       "      <td>...</td>\n",
       "      <td>...</td>\n",
       "    </tr>\n",
       "    <tr>\n",
       "      <th>27070</th>\n",
       "      <td>1065230</td>\n",
       "      <td>Room of Pandora</td>\n",
       "      <td>Single-player;Steam Achievements</td>\n",
       "      <td>Adventure;Casual;Indie</td>\n",
       "      <td>Adventure;Indie;Casual</td>\n",
       "      <td>0</td>\n",
       "      <td>0</td>\n",
       "      <td>2.09</td>\n",
       "      <td>3</td>\n",
       "      <td>1.000000</td>\n",
       "      <td>&lt;img src=\"https://steamcdn-a.akamaihd.net/stea...</td>\n",
       "    </tr>\n",
       "    <tr>\n",
       "      <th>27071</th>\n",
       "      <td>1065570</td>\n",
       "      <td>Cyber Gun</td>\n",
       "      <td>Single-player</td>\n",
       "      <td>Action;Adventure;Indie</td>\n",
       "      <td>Action;Indie;Adventure</td>\n",
       "      <td>0</td>\n",
       "      <td>0</td>\n",
       "      <td>1.69</td>\n",
       "      <td>9</td>\n",
       "      <td>0.888889</td>\n",
       "      <td>Have you ever been so lonely that no one but y...</td>\n",
       "    </tr>\n",
       "    <tr>\n",
       "      <th>27072</th>\n",
       "      <td>1065650</td>\n",
       "      <td>Super Star Blast</td>\n",
       "      <td>Single-player;Multi-player;Co-op;Shared/Split ...</td>\n",
       "      <td>Action;Casual;Indie</td>\n",
       "      <td>Action;Indie;Casual</td>\n",
       "      <td>0</td>\n",
       "      <td>0</td>\n",
       "      <td>3.99</td>\n",
       "      <td>1</td>\n",
       "      <td>0.000000</td>\n",
       "      <td>&lt;strong&gt;Super Star Blast &lt;/strong&gt;is a space b...</td>\n",
       "    </tr>\n",
       "    <tr>\n",
       "      <th>27073</th>\n",
       "      <td>1066700</td>\n",
       "      <td>New Yankee 7: Deer Hunters</td>\n",
       "      <td>Single-player;Steam Cloud</td>\n",
       "      <td>Adventure;Casual;Indie</td>\n",
       "      <td>Indie;Casual;Adventure</td>\n",
       "      <td>0</td>\n",
       "      <td>0</td>\n",
       "      <td>5.19</td>\n",
       "      <td>2</td>\n",
       "      <td>1.000000</td>\n",
       "      <td>Pursue a snow-white deer through an enchanted ...</td>\n",
       "    </tr>\n",
       "    <tr>\n",
       "      <th>27074</th>\n",
       "      <td>1069460</td>\n",
       "      <td>Rune Lord</td>\n",
       "      <td>Single-player;Steam Cloud</td>\n",
       "      <td>Adventure;Casual;Indie</td>\n",
       "      <td>Indie;Casual;Adventure</td>\n",
       "      <td>0</td>\n",
       "      <td>0</td>\n",
       "      <td>5.19</td>\n",
       "      <td>4</td>\n",
       "      <td>1.000000</td>\n",
       "      <td>A portal has opened and dark magic is pouring ...</td>\n",
       "    </tr>\n",
       "  </tbody>\n",
       "</table>\n",
       "<p>27075 rows × 11 columns</p>\n",
       "</div>"
      ],
      "text/plain": [
       "         appid                        name  \\\n",
       "0           10              Counter-Strike   \n",
       "1           20       Team Fortress Classic   \n",
       "2           30               Day of Defeat   \n",
       "3           40          Deathmatch Classic   \n",
       "4           50   Half-Life: Opposing Force   \n",
       "...        ...                         ...   \n",
       "27070  1065230             Room of Pandora   \n",
       "27071  1065570                   Cyber Gun   \n",
       "27072  1065650            Super Star Blast   \n",
       "27073  1066700  New Yankee 7: Deer Hunters   \n",
       "27074  1069460                   Rune Lord   \n",
       "\n",
       "                                              categories  \\\n",
       "0      Multi-player;Online Multi-Player;Local Multi-P...   \n",
       "1      Multi-player;Online Multi-Player;Local Multi-P...   \n",
       "2                  Multi-player;Valve Anti-Cheat enabled   \n",
       "3      Multi-player;Online Multi-Player;Local Multi-P...   \n",
       "4      Single-player;Multi-player;Valve Anti-Cheat en...   \n",
       "...                                                  ...   \n",
       "27070                   Single-player;Steam Achievements   \n",
       "27071                                      Single-player   \n",
       "27072  Single-player;Multi-player;Co-op;Shared/Split ...   \n",
       "27073                          Single-player;Steam Cloud   \n",
       "27074                          Single-player;Steam Cloud   \n",
       "\n",
       "                       genres                 steamspy_tags  average_playtime  \\\n",
       "0                      Action        Action;FPS;Multiplayer             17612   \n",
       "1                      Action        Action;FPS;Multiplayer               277   \n",
       "2                      Action  FPS;World War II;Multiplayer               187   \n",
       "3                      Action        Action;FPS;Multiplayer               258   \n",
       "4                      Action             FPS;Action;Sci-fi               624   \n",
       "...                       ...                           ...               ...   \n",
       "27070  Adventure;Casual;Indie        Adventure;Indie;Casual                 0   \n",
       "27071  Action;Adventure;Indie        Action;Indie;Adventure                 0   \n",
       "27072     Action;Casual;Indie           Action;Indie;Casual                 0   \n",
       "27073  Adventure;Casual;Indie        Indie;Casual;Adventure                 0   \n",
       "27074  Adventure;Casual;Indie        Indie;Casual;Adventure                 0   \n",
       "\n",
       "       median_playtime  price  total_ratings  percent_positive_ratings  \\\n",
       "0                  317   7.19         127873                  0.973888   \n",
       "1                   62   3.99           3951                  0.839787   \n",
       "2                   34   3.99           3814                  0.895648   \n",
       "3                  184   3.99           1540                  0.826623   \n",
       "4                  415   3.99           5538                  0.947996   \n",
       "...                ...    ...            ...                       ...   \n",
       "27070                0   2.09              3                  1.000000   \n",
       "27071                0   1.69              9                  0.888889   \n",
       "27072                0   3.99              1                  0.000000   \n",
       "27073                0   5.19              2                  1.000000   \n",
       "27074                0   5.19              4                  1.000000   \n",
       "\n",
       "                                    detailed_description  \n",
       "0      Play the world's number 1 online action game. ...  \n",
       "1      One of the most popular online action games of...  \n",
       "2      Enlist in an intense brand of Axis vs. Allied ...  \n",
       "3      Enjoy fast-paced multiplayer gaming with Death...  \n",
       "4      Return to the Black Mesa Research Facility as ...  \n",
       "...                                                  ...  \n",
       "27070  <img src=\"https://steamcdn-a.akamaihd.net/stea...  \n",
       "27071  Have you ever been so lonely that no one but y...  \n",
       "27072  <strong>Super Star Blast </strong>is a space b...  \n",
       "27073  Pursue a snow-white deer through an enchanted ...  \n",
       "27074  A portal has opened and dark magic is pouring ...  \n",
       "\n",
       "[27075 rows x 11 columns]"
      ]
     },
     "execution_count": 29,
     "metadata": {},
     "output_type": "execute_result"
    }
   ],
   "source": [
    "# drop unnecessary columns\n",
    "merge_dataset.drop(columns={\"release_date\",\"english\",\"developer\",\"publisher\",\"platforms\",\"required_age\",\n",
    "                            \"achievements\",\"owners\",\"about_the_game\",\"short_description\"})"
   ]
  },
  {
   "cell_type": "code",
   "execution_count": 34,
   "id": "52fcad86",
   "metadata": {
    "collapsed": true
   },
   "outputs": [
    {
     "name": "stdout",
     "output_type": "stream",
     "text": [
      "<class 'pandas.core.frame.DataFrame'>\n",
      "Int64Index: 27075 entries, 0 to 27074\n",
      "Data columns (total 21 columns):\n",
      " #   Column                    Non-Null Count  Dtype  \n",
      "---  ------                    --------------  -----  \n",
      " 0   appid                     27075 non-null  int64  \n",
      " 1   name                      27075 non-null  object \n",
      " 2   release_date              27075 non-null  object \n",
      " 3   english                   27075 non-null  int64  \n",
      " 4   developer                 27075 non-null  object \n",
      " 5   publisher                 27075 non-null  object \n",
      " 6   platforms                 27075 non-null  object \n",
      " 7   required_age              27075 non-null  int64  \n",
      " 8   categories                27075 non-null  object \n",
      " 9   genres                    27075 non-null  object \n",
      " 10  steamspy_tags             27075 non-null  object \n",
      " 11  achievements              27075 non-null  int64  \n",
      " 12  average_playtime          27075 non-null  int64  \n",
      " 13  median_playtime           27075 non-null  int64  \n",
      " 14  owners                    27075 non-null  object \n",
      " 15  price                     27075 non-null  float64\n",
      " 16  total_ratings             27075 non-null  int64  \n",
      " 17  percent_positive_ratings  27075 non-null  float64\n",
      " 18  detailed_description      27075 non-null  object \n",
      " 19  about_the_game            27075 non-null  object \n",
      " 20  short_description         27075 non-null  object \n",
      "dtypes: float64(2), int64(7), object(12)\n",
      "memory usage: 4.5+ MB\n"
     ]
    }
   ],
   "source": [
    "merge_dataset.info()"
   ]
  },
  {
   "cell_type": "code",
   "execution_count": 11,
   "id": "d8baa14c",
   "metadata": {},
   "outputs": [
    {
     "name": "stdout",
     "output_type": "stream",
     "text": [
      "Play the world's number 1 online action game. Engage in an incredibly realistic brand of terrorist warfare in this wildly popular team-based game. Ally with teammates to complete strategic missions. Take out enemy sites. Rescue hostages. Your role affects your team's success. Your team's success affects your role.\n"
     ]
    }
   ],
   "source": [
    "#befor \n",
    "for x in merge_dataset.detailed_description.head(1):\n",
    "    print(x)"
   ]
  },
  {
   "cell_type": "code",
   "execution_count": 22,
   "id": "b2a5424a",
   "metadata": {},
   "outputs": [],
   "source": [
    "# Create a custom function to remove the html tags from the descriptions\n",
    "def remove_html_tags(text):\n",
    "    clean = re.compile('<.*?>')\n",
    "    return re.sub(clean, '', text)\n",
    "\n",
    "def remove_punctuation(text):\n",
    "    return re.sub('[%s]' % re.escape(string.punctuation), '', text)\n",
    "\n",
    "def lower_case(text):\n",
    "    return text.lower()\n",
    "\n",
    "def remove_num(text):\n",
    "    return re.sub('\\w*\\d\\w*','',text)  "
   ]
  },
  {
   "cell_type": "code",
   "execution_count": 26,
   "id": "6d7e1702",
   "metadata": {},
   "outputs": [
    {
     "name": "stderr",
     "output_type": "stream",
     "text": [
      "[nltk_data] Downloading package stopwords to\n",
      "[nltk_data]     /Users/muntaha/nltk_data...\n",
      "[nltk_data]   Unzipping corpora/stopwords.zip.\n"
     ]
    }
   ],
   "source": [
    "stemmer = nltk.stem.PorterStemmer()\n",
    "nltk.download('stopwords')\n",
    "stopwords = stopwords.words('english')\n",
    "\n",
    "# Custom tokenizer to remove html tags, punctuation, set to lowercase, and remove stopwords\n",
    "def my_tokenizer(sentence):\n",
    "    # Remove HTML tags with custom function\n",
    "    sentence = remove_html_tags(sentence)\n",
    "    \n",
    "    # remove punctuation using string attribute\n",
    "    for punct in string.punctuation:\n",
    "        # set to lower case with built in functions\n",
    "        sentence = sentence.replace(punct,'').lower()\n",
    "\n",
    "    # split into words\n",
    "    words = sentence.split(' ')\n",
    "    stemmed_list = []\n",
    "    \n",
    "    # remove stopwords and any tokens that are just empty strings\n",
    "    for word in words:\n",
    "        if (not word in stopwords) and (word!=''):\n",
    "            # Stem words\n",
    "            stemmed = stemmer.stem(word)\n",
    "            stemmed_list.append(stemmed)\n",
    "\n",
    "    return stemmed_list"
   ]
  },
  {
   "cell_type": "code",
   "execution_count": 27,
   "id": "9fc53500",
   "metadata": {
    "collapsed": true
   },
   "outputs": [
    {
     "ename": "KeyboardInterrupt",
     "evalue": "",
     "output_type": "error",
     "traceback": [
      "\u001b[0;31m---------------------------------------------------------------------------\u001b[0m",
      "\u001b[0;31mKeyboardInterrupt\u001b[0m                         Traceback (most recent call last)",
      "\u001b[0;32m<ipython-input-27-5713285be4a4>\u001b[0m in \u001b[0;36m<module>\u001b[0;34m\u001b[0m\n\u001b[0;32m----> 1\u001b[0;31m \u001b[0mmerge_dataset\u001b[0m\u001b[0;34m[\u001b[0m\u001b[0;34m\"detailed_description\"\u001b[0m\u001b[0;34m]\u001b[0m \u001b[0;34m=\u001b[0m \u001b[0mmerge_dataset\u001b[0m\u001b[0;34m[\u001b[0m\u001b[0;34m\"detailed_description\"\u001b[0m\u001b[0;34m]\u001b[0m\u001b[0;34m.\u001b[0m\u001b[0mapply\u001b[0m\u001b[0;34m(\u001b[0m\u001b[0mmy_tokenizer\u001b[0m\u001b[0;34m)\u001b[0m\u001b[0;34m\u001b[0m\u001b[0;34m\u001b[0m\u001b[0m\n\u001b[0m\u001b[1;32m      2\u001b[0m \u001b[0;31m# merge_dataset[\"detailed_description\"] = merge_dataset[\"detailed_description\"].apply(lower_case)\u001b[0m\u001b[0;34m\u001b[0m\u001b[0;34m\u001b[0m\u001b[0;34m\u001b[0m\u001b[0m\n\u001b[1;32m      3\u001b[0m \u001b[0;31m# merge_dataset[\"detailed_description\"] = merge_dataset[\"detailed_description\"].apply(remove_num)\u001b[0m\u001b[0;34m\u001b[0m\u001b[0;34m\u001b[0m\u001b[0;34m\u001b[0m\u001b[0m\n",
      "\u001b[0;32m~/opt/anaconda3/lib/python3.8/site-packages/pandas/core/series.py\u001b[0m in \u001b[0;36mapply\u001b[0;34m(self, func, convert_dtype, args, **kwds)\u001b[0m\n\u001b[1;32m   4136\u001b[0m             \u001b[0;32melse\u001b[0m\u001b[0;34m:\u001b[0m\u001b[0;34m\u001b[0m\u001b[0;34m\u001b[0m\u001b[0m\n\u001b[1;32m   4137\u001b[0m                 \u001b[0mvalues\u001b[0m \u001b[0;34m=\u001b[0m \u001b[0mself\u001b[0m\u001b[0;34m.\u001b[0m\u001b[0mastype\u001b[0m\u001b[0;34m(\u001b[0m\u001b[0mobject\u001b[0m\u001b[0;34m)\u001b[0m\u001b[0;34m.\u001b[0m\u001b[0m_values\u001b[0m\u001b[0;34m\u001b[0m\u001b[0;34m\u001b[0m\u001b[0m\n\u001b[0;32m-> 4138\u001b[0;31m                 \u001b[0mmapped\u001b[0m \u001b[0;34m=\u001b[0m \u001b[0mlib\u001b[0m\u001b[0;34m.\u001b[0m\u001b[0mmap_infer\u001b[0m\u001b[0;34m(\u001b[0m\u001b[0mvalues\u001b[0m\u001b[0;34m,\u001b[0m \u001b[0mf\u001b[0m\u001b[0;34m,\u001b[0m \u001b[0mconvert\u001b[0m\u001b[0;34m=\u001b[0m\u001b[0mconvert_dtype\u001b[0m\u001b[0;34m)\u001b[0m\u001b[0;34m\u001b[0m\u001b[0;34m\u001b[0m\u001b[0m\n\u001b[0m\u001b[1;32m   4139\u001b[0m \u001b[0;34m\u001b[0m\u001b[0m\n\u001b[1;32m   4140\u001b[0m         \u001b[0;32mif\u001b[0m \u001b[0mlen\u001b[0m\u001b[0;34m(\u001b[0m\u001b[0mmapped\u001b[0m\u001b[0;34m)\u001b[0m \u001b[0;32mand\u001b[0m \u001b[0misinstance\u001b[0m\u001b[0;34m(\u001b[0m\u001b[0mmapped\u001b[0m\u001b[0;34m[\u001b[0m\u001b[0;36m0\u001b[0m\u001b[0;34m]\u001b[0m\u001b[0;34m,\u001b[0m \u001b[0mSeries\u001b[0m\u001b[0;34m)\u001b[0m\u001b[0;34m:\u001b[0m\u001b[0;34m\u001b[0m\u001b[0;34m\u001b[0m\u001b[0m\n",
      "\u001b[0;32mpandas/_libs/lib.pyx\u001b[0m in \u001b[0;36mpandas._libs.lib.map_infer\u001b[0;34m()\u001b[0m\n",
      "\u001b[0;32m<ipython-input-26-9d4cdd8dd51a>\u001b[0m in \u001b[0;36mmy_tokenizer\u001b[0;34m(sentence)\u001b[0m\n\u001b[1;32m     22\u001b[0m         \u001b[0;32mif\u001b[0m \u001b[0;34m(\u001b[0m\u001b[0;32mnot\u001b[0m \u001b[0mword\u001b[0m \u001b[0;32min\u001b[0m \u001b[0mstopwords\u001b[0m\u001b[0;34m)\u001b[0m \u001b[0;32mand\u001b[0m \u001b[0;34m(\u001b[0m\u001b[0mword\u001b[0m\u001b[0;34m!=\u001b[0m\u001b[0;34m''\u001b[0m\u001b[0;34m)\u001b[0m\u001b[0;34m:\u001b[0m\u001b[0;34m\u001b[0m\u001b[0;34m\u001b[0m\u001b[0m\n\u001b[1;32m     23\u001b[0m             \u001b[0;31m# Stem words\u001b[0m\u001b[0;34m\u001b[0m\u001b[0;34m\u001b[0m\u001b[0;34m\u001b[0m\u001b[0m\n\u001b[0;32m---> 24\u001b[0;31m             \u001b[0mstemmed\u001b[0m \u001b[0;34m=\u001b[0m \u001b[0mstemmer\u001b[0m\u001b[0;34m.\u001b[0m\u001b[0mstem\u001b[0m\u001b[0;34m(\u001b[0m\u001b[0mword\u001b[0m\u001b[0;34m)\u001b[0m\u001b[0;34m\u001b[0m\u001b[0;34m\u001b[0m\u001b[0m\n\u001b[0m\u001b[1;32m     25\u001b[0m             \u001b[0mstemmed_list\u001b[0m\u001b[0;34m.\u001b[0m\u001b[0mappend\u001b[0m\u001b[0;34m(\u001b[0m\u001b[0mstemmed\u001b[0m\u001b[0;34m)\u001b[0m\u001b[0;34m\u001b[0m\u001b[0;34m\u001b[0m\u001b[0m\n\u001b[1;32m     26\u001b[0m \u001b[0;34m\u001b[0m\u001b[0m\n",
      "\u001b[0;32m~/opt/anaconda3/lib/python3.8/site-packages/nltk/stem/porter.py\u001b[0m in \u001b[0;36mstem\u001b[0;34m(self, word, to_lowercase)\u001b[0m\n\u001b[1;32m    670\u001b[0m         \u001b[0mstem\u001b[0m \u001b[0;34m=\u001b[0m \u001b[0mself\u001b[0m\u001b[0;34m.\u001b[0m\u001b[0m_step2\u001b[0m\u001b[0;34m(\u001b[0m\u001b[0mstem\u001b[0m\u001b[0;34m)\u001b[0m\u001b[0;34m\u001b[0m\u001b[0;34m\u001b[0m\u001b[0m\n\u001b[1;32m    671\u001b[0m         \u001b[0mstem\u001b[0m \u001b[0;34m=\u001b[0m \u001b[0mself\u001b[0m\u001b[0;34m.\u001b[0m\u001b[0m_step3\u001b[0m\u001b[0;34m(\u001b[0m\u001b[0mstem\u001b[0m\u001b[0;34m)\u001b[0m\u001b[0;34m\u001b[0m\u001b[0;34m\u001b[0m\u001b[0m\n\u001b[0;32m--> 672\u001b[0;31m         \u001b[0mstem\u001b[0m \u001b[0;34m=\u001b[0m \u001b[0mself\u001b[0m\u001b[0;34m.\u001b[0m\u001b[0m_step4\u001b[0m\u001b[0;34m(\u001b[0m\u001b[0mstem\u001b[0m\u001b[0;34m)\u001b[0m\u001b[0;34m\u001b[0m\u001b[0;34m\u001b[0m\u001b[0m\n\u001b[0m\u001b[1;32m    673\u001b[0m         \u001b[0mstem\u001b[0m \u001b[0;34m=\u001b[0m \u001b[0mself\u001b[0m\u001b[0;34m.\u001b[0m\u001b[0m_step5a\u001b[0m\u001b[0;34m(\u001b[0m\u001b[0mstem\u001b[0m\u001b[0;34m)\u001b[0m\u001b[0;34m\u001b[0m\u001b[0;34m\u001b[0m\u001b[0m\n\u001b[1;32m    674\u001b[0m         \u001b[0mstem\u001b[0m \u001b[0;34m=\u001b[0m \u001b[0mself\u001b[0m\u001b[0;34m.\u001b[0m\u001b[0m_step5b\u001b[0m\u001b[0;34m(\u001b[0m\u001b[0mstem\u001b[0m\u001b[0;34m)\u001b[0m\u001b[0;34m\u001b[0m\u001b[0;34m\u001b[0m\u001b[0m\n",
      "\u001b[0;32m~/opt/anaconda3/lib/python3.8/site-packages/nltk/stem/porter.py\u001b[0m in \u001b[0;36m_step4\u001b[0;34m(self, word)\u001b[0m\n\u001b[1;32m    568\u001b[0m         \u001b[0mmeasure_gt_1\u001b[0m \u001b[0;34m=\u001b[0m \u001b[0;32mlambda\u001b[0m \u001b[0mstem\u001b[0m\u001b[0;34m:\u001b[0m \u001b[0mself\u001b[0m\u001b[0;34m.\u001b[0m\u001b[0m_measure\u001b[0m\u001b[0;34m(\u001b[0m\u001b[0mstem\u001b[0m\u001b[0;34m)\u001b[0m \u001b[0;34m>\u001b[0m \u001b[0;36m1\u001b[0m\u001b[0;34m\u001b[0m\u001b[0;34m\u001b[0m\u001b[0m\n\u001b[1;32m    569\u001b[0m \u001b[0;34m\u001b[0m\u001b[0m\n\u001b[0;32m--> 570\u001b[0;31m         return self._apply_rule_list(\n\u001b[0m\u001b[1;32m    571\u001b[0m             \u001b[0mword\u001b[0m\u001b[0;34m,\u001b[0m\u001b[0;34m\u001b[0m\u001b[0;34m\u001b[0m\u001b[0m\n\u001b[1;32m    572\u001b[0m             [\n",
      "\u001b[0;32m~/opt/anaconda3/lib/python3.8/site-packages/nltk/stem/porter.py\u001b[0m in \u001b[0;36m_apply_rule_list\u001b[0;34m(self, word, rules)\u001b[0m\n\u001b[1;32m    263\u001b[0m             \u001b[0;32mif\u001b[0m \u001b[0mword\u001b[0m\u001b[0;34m.\u001b[0m\u001b[0mendswith\u001b[0m\u001b[0;34m(\u001b[0m\u001b[0msuffix\u001b[0m\u001b[0;34m)\u001b[0m\u001b[0;34m:\u001b[0m\u001b[0;34m\u001b[0m\u001b[0;34m\u001b[0m\u001b[0m\n\u001b[1;32m    264\u001b[0m                 \u001b[0mstem\u001b[0m \u001b[0;34m=\u001b[0m \u001b[0mself\u001b[0m\u001b[0;34m.\u001b[0m\u001b[0m_replace_suffix\u001b[0m\u001b[0;34m(\u001b[0m\u001b[0mword\u001b[0m\u001b[0;34m,\u001b[0m \u001b[0msuffix\u001b[0m\u001b[0;34m,\u001b[0m \u001b[0;34m\"\"\u001b[0m\u001b[0;34m)\u001b[0m\u001b[0;34m\u001b[0m\u001b[0;34m\u001b[0m\u001b[0m\n\u001b[0;32m--> 265\u001b[0;31m                 \u001b[0;32mif\u001b[0m \u001b[0mcondition\u001b[0m \u001b[0;32mis\u001b[0m \u001b[0;32mNone\u001b[0m \u001b[0;32mor\u001b[0m \u001b[0mcondition\u001b[0m\u001b[0;34m(\u001b[0m\u001b[0mstem\u001b[0m\u001b[0;34m)\u001b[0m\u001b[0;34m:\u001b[0m\u001b[0;34m\u001b[0m\u001b[0;34m\u001b[0m\u001b[0m\n\u001b[0m\u001b[1;32m    266\u001b[0m                     \u001b[0;32mreturn\u001b[0m \u001b[0mstem\u001b[0m \u001b[0;34m+\u001b[0m \u001b[0mreplacement\u001b[0m\u001b[0;34m\u001b[0m\u001b[0;34m\u001b[0m\u001b[0m\n\u001b[1;32m    267\u001b[0m                 \u001b[0;32melse\u001b[0m\u001b[0;34m:\u001b[0m\u001b[0;34m\u001b[0m\u001b[0;34m\u001b[0m\u001b[0m\n",
      "\u001b[0;32m~/opt/anaconda3/lib/python3.8/site-packages/nltk/stem/porter.py\u001b[0m in \u001b[0;36m<lambda>\u001b[0;34m(stem)\u001b[0m\n\u001b[1;32m    566\u001b[0m         \u001b[0mtidying\u001b[0m \u001b[0mup\u001b[0m\u001b[0;34m.\u001b[0m\u001b[0;34m\u001b[0m\u001b[0;34m\u001b[0m\u001b[0m\n\u001b[1;32m    567\u001b[0m         \"\"\"\n\u001b[0;32m--> 568\u001b[0;31m         \u001b[0mmeasure_gt_1\u001b[0m \u001b[0;34m=\u001b[0m \u001b[0;32mlambda\u001b[0m \u001b[0mstem\u001b[0m\u001b[0;34m:\u001b[0m \u001b[0mself\u001b[0m\u001b[0;34m.\u001b[0m\u001b[0m_measure\u001b[0m\u001b[0;34m(\u001b[0m\u001b[0mstem\u001b[0m\u001b[0;34m)\u001b[0m \u001b[0;34m>\u001b[0m \u001b[0;36m1\u001b[0m\u001b[0;34m\u001b[0m\u001b[0;34m\u001b[0m\u001b[0m\n\u001b[0m\u001b[1;32m    569\u001b[0m \u001b[0;34m\u001b[0m\u001b[0m\n\u001b[1;32m    570\u001b[0m         return self._apply_rule_list(\n",
      "\u001b[0;32m~/opt/anaconda3/lib/python3.8/site-packages/nltk/stem/porter.py\u001b[0m in \u001b[0;36m_measure\u001b[0;34m(self, stem)\u001b[0m\n\u001b[1;32m    183\u001b[0m         \u001b[0;31m#      'architecture' becomes 'vcccvcvccvcv'\u001b[0m\u001b[0;34m\u001b[0m\u001b[0;34m\u001b[0m\u001b[0;34m\u001b[0m\u001b[0m\n\u001b[1;32m    184\u001b[0m         \u001b[0;32mfor\u001b[0m \u001b[0mi\u001b[0m \u001b[0;32min\u001b[0m \u001b[0mrange\u001b[0m\u001b[0;34m(\u001b[0m\u001b[0mlen\u001b[0m\u001b[0;34m(\u001b[0m\u001b[0mstem\u001b[0m\u001b[0;34m)\u001b[0m\u001b[0;34m)\u001b[0m\u001b[0;34m:\u001b[0m\u001b[0;34m\u001b[0m\u001b[0;34m\u001b[0m\u001b[0m\n\u001b[0;32m--> 185\u001b[0;31m             \u001b[0;32mif\u001b[0m \u001b[0mself\u001b[0m\u001b[0;34m.\u001b[0m\u001b[0m_is_consonant\u001b[0m\u001b[0;34m(\u001b[0m\u001b[0mstem\u001b[0m\u001b[0;34m,\u001b[0m \u001b[0mi\u001b[0m\u001b[0;34m)\u001b[0m\u001b[0;34m:\u001b[0m\u001b[0;34m\u001b[0m\u001b[0;34m\u001b[0m\u001b[0m\n\u001b[0m\u001b[1;32m    186\u001b[0m                 \u001b[0mcv_sequence\u001b[0m \u001b[0;34m+=\u001b[0m \u001b[0;34m\"c\"\u001b[0m\u001b[0;34m\u001b[0m\u001b[0;34m\u001b[0m\u001b[0m\n\u001b[1;32m    187\u001b[0m             \u001b[0;32melse\u001b[0m\u001b[0;34m:\u001b[0m\u001b[0;34m\u001b[0m\u001b[0;34m\u001b[0m\u001b[0m\n",
      "\u001b[0;32m~/opt/anaconda3/lib/python3.8/site-packages/nltk/stem/porter.py\u001b[0m in \u001b[0;36m_is_consonant\u001b[0;34m(self, word, i)\u001b[0m\n\u001b[1;32m    133\u001b[0m             \u001b[0;32mis\u001b[0m \u001b[0;32mnot\u001b[0m \u001b[0ma\u001b[0m \u001b[0mconsonant\u001b[0m \u001b[0mit\u001b[0m \u001b[0;32mis\u001b[0m \u001b[0ma\u001b[0m \u001b[0mvowel\u001b[0m\u001b[0;34m.\u001b[0m\u001b[0;34m\u001b[0m\u001b[0;34m\u001b[0m\u001b[0m\n\u001b[1;32m    134\u001b[0m         \"\"\"\n\u001b[0;32m--> 135\u001b[0;31m         \u001b[0;32mif\u001b[0m \u001b[0mword\u001b[0m\u001b[0;34m[\u001b[0m\u001b[0mi\u001b[0m\u001b[0;34m]\u001b[0m \u001b[0;32min\u001b[0m \u001b[0mself\u001b[0m\u001b[0;34m.\u001b[0m\u001b[0mvowels\u001b[0m\u001b[0;34m:\u001b[0m\u001b[0;34m\u001b[0m\u001b[0;34m\u001b[0m\u001b[0m\n\u001b[0m\u001b[1;32m    136\u001b[0m             \u001b[0;32mreturn\u001b[0m \u001b[0;32mFalse\u001b[0m\u001b[0;34m\u001b[0m\u001b[0;34m\u001b[0m\u001b[0m\n\u001b[1;32m    137\u001b[0m         \u001b[0;32mif\u001b[0m \u001b[0mword\u001b[0m\u001b[0;34m[\u001b[0m\u001b[0mi\u001b[0m\u001b[0;34m]\u001b[0m \u001b[0;34m==\u001b[0m \u001b[0;34m\"y\"\u001b[0m\u001b[0;34m:\u001b[0m\u001b[0;34m\u001b[0m\u001b[0;34m\u001b[0m\u001b[0m\n",
      "\u001b[0;31mKeyboardInterrupt\u001b[0m: "
     ]
    }
   ],
   "source": [
    "#merge_dataset[\"detailed_description\"] = merge_dataset[\"detailed_description\"].apply(my_tokenizer)\n",
    "# merge_dataset[\"detailed_description\"] = merge_dataset[\"detailed_description\"].apply(lower_case)\n",
    "# merge_dataset[\"detailed_description\"] = merge_dataset[\"detailed_description\"].apply(remove_num)"
   ]
  },
  {
   "cell_type": "code",
   "execution_count": null,
   "id": "099f49b2",
   "metadata": {},
   "outputs": [],
   "source": [
    "#after\n",
    "for x in merge_dataset.detailed_description.head(1):\n",
    "    print(x,\"\\n\")"
   ]
  },
  {
   "cell_type": "code",
   "execution_count": 30,
   "id": "55ca5b9f",
   "metadata": {},
   "outputs": [
    {
     "data": {
      "text/plain": [
       "False"
      ]
     },
     "execution_count": 30,
     "metadata": {},
     "output_type": "execute_result"
    }
   ],
   "source": [
    "# check nan values\n",
    "merge_dataset.detailed_description.isnull().values.any()"
   ]
  },
  {
   "cell_type": "code",
   "execution_count": 50,
   "id": "82553c8c",
   "metadata": {},
   "outputs": [],
   "source": [
    "# merge_dataset.to_csv(r\"../Data/merged_description.csv\")"
   ]
  },
  {
   "cell_type": "code",
   "execution_count": 98,
   "id": "cbfedb5d",
   "metadata": {
    "collapsed": true
   },
   "outputs": [
    {
     "name": "stdout",
     "output_type": "stream",
     "text": [
      "Violent;Action;Adventure;Indie\n",
      "Violent;Action;Adventure;Indie\n",
      "Violent;Action;Adventure;Indie\n",
      "Violent;Action;Adventure;Indie\n",
      "Violent;Action;Adventure;Indie\n",
      "Violent;Action;Adventure;Indie\n",
      "Violent;Action;Adventure;Indie\n",
      "Violent;Action;Adventure;Indie\n",
      "Violent;Action;Adventure;Indie\n",
      "Violent;Action;Adventure;Indie\n",
      "Violent;Action;Adventure;Indie\n",
      "Violent;Action;Adventure;Indie\n",
      "Violent;Action;Adventure;Indie\n",
      "Violent;Action;Adventure;Indie\n",
      "Violent;Action;Adventure;Indie\n",
      "Violent;Action;Adventure;Indie\n",
      "Violent;Action;Adventure;Indie\n",
      "Violent;Action;Adventure;Indie\n",
      "Violent;Action;Adventure;Indie\n",
      "Violent;Action;Adventure;Indie\n",
      "Violent;Action;Adventure;Indie\n",
      "Violent;Action;Adventure;Indie\n",
      "Violent;Action;Adventure;Indie\n",
      "Violent;Action;Adventure;Indie\n"
     ]
    }
   ],
   "source": [
    "x = merge_dataset.genres\n",
    "for l in x: \n",
    "    if l == \"Violent;Action;Adventure;Indie\":\n",
    "        print(l)"
   ]
  },
  {
   "cell_type": "markdown",
   "id": "9bbc0e1d",
   "metadata": {},
   "source": [
    "# Apply TFIDF"
   ]
  },
  {
   "cell_type": "code",
   "execution_count": 75,
   "id": "989ed0a7",
   "metadata": {},
   "outputs": [],
   "source": [
    "# Initial thresholds\n",
    "minimum_descr_count = 5 # do not count words unless they occur in at least this many descriptions\n",
    "maximum_descr_perc = 0.90 # drop words that occur in 90% or more of the descriptions\n",
    "\n",
    "tfidf = TfidfVectorizer(stop_words = stopwords, min_df=minimum_descr_count, \n",
    "                             max_df=maximum_descr_perc, tokenizer=my_tokenizer)                          "
   ]
  },
  {
   "cell_type": "code",
   "execution_count": 32,
   "id": "d249008f",
   "metadata": {},
   "outputs": [
    {
     "name": "stderr",
     "output_type": "stream",
     "text": [
      "/Users/muntaha/opt/anaconda3/lib/python3.8/site-packages/sklearn/feature_extraction/text.py:388: UserWarning: Your stop_words may be inconsistent with your preprocessing. Tokenizing the stop words generated tokens ['arent', 'couldnt', 'didnt', 'doesnt', 'dont', 'hadnt', 'hasnt', 'havent', 'isnt', 'mightnt', 'mustnt', 'neednt', 'shant', 'shouldnt', 'shouldv', 'thatll', 'wasnt', 'werent', 'wont', 'wouldnt', 'youd', 'youll', 'youv'] not in stop_words.\n",
      "  warnings.warn('Your stop_words may be inconsistent with '\n"
     ]
    }
   ],
   "source": [
    "tfidf_matrix = tfidf.fit_transform(merge_dataset.detailed_description)"
   ]
  },
  {
   "cell_type": "code",
   "execution_count": 18,
   "id": "295c5b0f",
   "metadata": {},
   "outputs": [
    {
     "data": {
      "text/plain": [
       "<27075x281265 sparse matrix of type '<class 'numpy.float64'>'\n",
       "\twith 2581660 stored elements in Compressed Sparse Row format>"
      ]
     },
     "execution_count": 18,
     "metadata": {},
     "output_type": "execute_result"
    }
   ],
   "source": [
    "# before applying steam stop words\n",
    "tfidf_matrix"
   ]
  },
  {
   "cell_type": "code",
   "execution_count": 34,
   "id": "9cfba945",
   "metadata": {},
   "outputs": [
    {
     "data": {
      "text/plain": [
       "(27075, 18715)"
      ]
     },
     "execution_count": 34,
     "metadata": {},
     "output_type": "execute_result"
    }
   ],
   "source": [
    "tfidf_matrix.shape"
   ]
  },
  {
   "cell_type": "markdown",
   "id": "a374c5b3",
   "metadata": {},
   "source": [
    "# Applying similarity mitrex"
   ]
  },
  {
   "cell_type": "markdown",
   "id": "0bb74f8f",
   "metadata": {},
   "source": [
    "### recommend system function"
   ]
  },
  {
   "cell_type": "code",
   "execution_count": null,
   "id": "4db6e85c",
   "metadata": {},
   "outputs": [],
   "source": [
    "# find index of each name to bring the similar game by entring game name\n",
    "indexs = pd.Series(merge_dataset.index, index = merge_dataset.name).drop_duplicates()"
   ]
  },
  {
   "cell_type": "code",
   "execution_count": 102,
   "id": "6f9ec802",
   "metadata": {},
   "outputs": [],
   "source": [
    "# test recommendtion system based on sigmoid_kernel\n",
    "def recomend_game(name, model, num):\n",
    "    indx = indexs[name]\n",
    "    sig_score = list(enumerate(model[indx])) # get similarity score\n",
    "    sig_score = sorted(sig_score, key= lambda x:x[1], reverse = True) # sort game\n",
    "    sig_score = sig_score[1:num+1]\n",
    "    \n",
    "    game_index = [i[0] for i in sig_score] # get index of each score\n",
    "    \n",
    "    return merge_dataset.name.iloc[game_index] # return the name\n",
    "    \n",
    "    "
   ]
  },
  {
   "cell_type": "code",
   "execution_count": 140,
   "id": "b6376a05",
   "metadata": {},
   "outputs": [],
   "source": [
    "def content_recommender(name, games, similarities, vote_threshold=1000, rating_threshold=0.7) :\n",
    "    \n",
    "    # Get the game by the title\n",
    "    game_index = games[games['name']==name].index\n",
    "    \n",
    "    # Create a dataframe with the game id, name, and rating information with similarity\n",
    "    sim_df = pd.DataFrame(\n",
    "        {'appid': games['appid'],\n",
    "         'game': games['name'], \n",
    "         'similarity': np.array(similarities[game_index, :].todense()).squeeze(),\n",
    "         'diversity': 1- np.array(similarities[game_index, :].todense()).squeeze(),\n",
    "         'vote_count': games['total_ratings'],\n",
    "         'percent_positive_ratings': games['percent_positive_ratings']\n",
    "        })\n",
    "    \n",
    "    # Get the top 10 games that satisfy our thresholds\n",
    "    top_games = sim_df[(sim_df['vote_count']>vote_threshold) & \n",
    "                       (sim_df['percent_positive_ratings']>rating_threshold)].sort_values(by='similarity', ascending=False).head(10)\n",
    "    \n",
    "    return top_games"
   ]
  },
  {
   "cell_type": "code",
   "execution_count": 115,
   "id": "a4291d02",
   "metadata": {},
   "outputs": [],
   "source": [
    "def content_recommender2(name, games, similarities, vote_threshold=1000, rating_threshold=0.7) :\n",
    "    \n",
    "    # Get the game by the title\n",
    "    game_index = games[games['name']==name].index\n",
    "    \n",
    "    # Create a dataframe with the game id, name, and rating information with similarity\n",
    "    sim_df = pd.DataFrame(\n",
    "        {'appid': games['appid'],\n",
    "         'game': games['name'], \n",
    "         'similarity': np.array(similarities[game_index, :]).squeeze(),\n",
    "         'diversity': 1 - np.array(similarities[game_index, :]).squeeze(),\n",
    "         'vote_count': games['total_ratings'],\n",
    "         'percent_positive_ratings': games['percent_positive_ratings']\n",
    "        })\n",
    "    \n",
    "    # Get the top 10 games \n",
    "    top_games = sim_df[(sim_df['vote_count']>vote_threshold) & \n",
    "                       (sim_df['percent_positive_ratings']>rating_threshold)].sort_values(by='similarity', ascending=False).head(10)\n",
    "    \n",
    "    return top_games"
   ]
  },
  {
   "cell_type": "markdown",
   "id": "47916bf5",
   "metadata": {},
   "source": [
    "### 1) sigmoid_kernel"
   ]
  },
  {
   "cell_type": "code",
   "execution_count": 41,
   "id": "d4ae3b44",
   "metadata": {},
   "outputs": [],
   "source": [
    "# to find  content based similarity  will try to use sigmoid kernel to find the propabilty of detailed_description similarity\n",
    "sig = sigmoid_kernel(tfidf_matrix,tfidf_matrix)\n",
    "# to much time but works \n"
   ]
  },
  {
   "cell_type": "code",
   "execution_count": 103,
   "id": "a3697998",
   "metadata": {},
   "outputs": [
    {
     "data": {
      "text/plain": [
       "6655             Let's Sing 2016\n",
       "22256                 Idle Heist\n",
       "21486                Dreadnought\n",
       "3575              The Masterplan\n",
       "4438                     rFactor\n",
       "26886               Grand Battle\n",
       "1982               7 Days to Die\n",
       "1357                   Sanctum 2\n",
       "12648    DRAGON QUEST HEROES™ II\n",
       "8928                     Colosse\n",
       "Name: name, dtype: object"
      ]
     },
     "execution_count": 103,
     "metadata": {},
     "output_type": "execute_result"
    }
   ],
   "source": [
    "recomend_game(\"PAYDAY 2\",sig,10)"
   ]
  },
  {
   "cell_type": "code",
   "execution_count": 142,
   "id": "54b658c9",
   "metadata": {},
   "outputs": [
    {
     "data": {
      "text/html": [
       "<div>\n",
       "<style scoped>\n",
       "    .dataframe tbody tr th:only-of-type {\n",
       "        vertical-align: middle;\n",
       "    }\n",
       "\n",
       "    .dataframe tbody tr th {\n",
       "        vertical-align: top;\n",
       "    }\n",
       "\n",
       "    .dataframe thead th {\n",
       "        text-align: right;\n",
       "    }\n",
       "</style>\n",
       "<table border=\"1\" class=\"dataframe\">\n",
       "  <thead>\n",
       "    <tr style=\"text-align: right;\">\n",
       "      <th></th>\n",
       "      <th>appid</th>\n",
       "      <th>game</th>\n",
       "      <th>similarity</th>\n",
       "      <th>diversity</th>\n",
       "      <th>vote_count</th>\n",
       "      <th>percent_positive_ratings</th>\n",
       "    </tr>\n",
       "  </thead>\n",
       "  <tbody>\n",
       "    <tr>\n",
       "      <th>1357</th>\n",
       "      <td>210770</td>\n",
       "      <td>Sanctum 2</td>\n",
       "      <td>0.761599</td>\n",
       "      <td>0.238401</td>\n",
       "      <td>12902</td>\n",
       "      <td>0.901333</td>\n",
       "    </tr>\n",
       "    <tr>\n",
       "      <th>8762</th>\n",
       "      <td>460810</td>\n",
       "      <td>Vanquish</td>\n",
       "      <td>0.761598</td>\n",
       "      <td>0.238402</td>\n",
       "      <td>2687</td>\n",
       "      <td>0.878303</td>\n",
       "    </tr>\n",
       "    <tr>\n",
       "      <th>4382</th>\n",
       "      <td>338170</td>\n",
       "      <td>Ratz Instagib</td>\n",
       "      <td>0.761598</td>\n",
       "      <td>0.238402</td>\n",
       "      <td>2505</td>\n",
       "      <td>0.854291</td>\n",
       "    </tr>\n",
       "    <tr>\n",
       "      <th>1467</th>\n",
       "      <td>218620</td>\n",
       "      <td>PAYDAY 2</td>\n",
       "      <td>0.761617</td>\n",
       "      <td>0.238383</td>\n",
       "      <td>365180</td>\n",
       "      <td>0.845219</td>\n",
       "    </tr>\n",
       "    <tr>\n",
       "      <th>10844</th>\n",
       "      <td>524220</td>\n",
       "      <td>NieR:Automata™</td>\n",
       "      <td>0.761598</td>\n",
       "      <td>0.238402</td>\n",
       "      <td>48801</td>\n",
       "      <td>0.807094</td>\n",
       "    </tr>\n",
       "  </tbody>\n",
       "</table>\n",
       "</div>"
      ],
      "text/plain": [
       "        appid            game  similarity  diversity  vote_count  \\\n",
       "1357   210770       Sanctum 2    0.761599   0.238401       12902   \n",
       "8762   460810        Vanquish    0.761598   0.238402        2687   \n",
       "4382   338170   Ratz Instagib    0.761598   0.238402        2505   \n",
       "1467   218620        PAYDAY 2    0.761617   0.238383      365180   \n",
       "10844  524220  NieR:Automata™    0.761598   0.238402       48801   \n",
       "\n",
       "       percent_positive_ratings  \n",
       "1357                   0.901333  \n",
       "8762                   0.878303  \n",
       "4382                   0.854291  \n",
       "1467                   0.845219  \n",
       "10844                  0.807094  "
      ]
     },
     "execution_count": 142,
     "metadata": {},
     "output_type": "execute_result"
    }
   ],
   "source": [
    "similar_games = content_recommender2('PAYDAY 2', merge_dataset, sig, \n",
    "                                    rating_threshold=0.80)\n",
    "similar_games.head(5).sort_values(by='percent_positive_ratings',ascending=False)\n",
    "# the less diversity the better"
   ]
  },
  {
   "cell_type": "markdown",
   "id": "727bcb95",
   "metadata": {},
   "source": [
    "### 2) cosine_similarity"
   ]
  },
  {
   "cell_type": "code",
   "execution_count": 129,
   "id": "ea15aca2",
   "metadata": {},
   "outputs": [],
   "source": [
    "similarities = cosine_similarity(tfidf_matrix, dense_output=False)\n",
    "# take to much time"
   ]
  },
  {
   "cell_type": "code",
   "execution_count": 130,
   "id": "f7bf1961",
   "metadata": {},
   "outputs": [
    {
     "data": {
      "text/plain": [
       "<27075x27075 sparse matrix of type '<class 'numpy.float64'>'\n",
       "\twith 696023852 stored elements in Compressed Sparse Row format>"
      ]
     },
     "execution_count": 130,
     "metadata": {},
     "output_type": "execute_result"
    }
   ],
   "source": [
    "similarities"
   ]
  },
  {
   "cell_type": "code",
   "execution_count": 141,
   "id": "3c402579",
   "metadata": {},
   "outputs": [
    {
     "data": {
      "text/html": [
       "<div>\n",
       "<style scoped>\n",
       "    .dataframe tbody tr th:only-of-type {\n",
       "        vertical-align: middle;\n",
       "    }\n",
       "\n",
       "    .dataframe tbody tr th {\n",
       "        vertical-align: top;\n",
       "    }\n",
       "\n",
       "    .dataframe thead th {\n",
       "        text-align: right;\n",
       "    }\n",
       "</style>\n",
       "<table border=\"1\" class=\"dataframe\">\n",
       "  <thead>\n",
       "    <tr style=\"text-align: right;\">\n",
       "      <th></th>\n",
       "      <th>appid</th>\n",
       "      <th>game</th>\n",
       "      <th>similarity</th>\n",
       "      <th>diversity</th>\n",
       "      <th>vote_count</th>\n",
       "      <th>percent_positive_ratings</th>\n",
       "    </tr>\n",
       "  </thead>\n",
       "  <tbody>\n",
       "    <tr>\n",
       "      <th>1357</th>\n",
       "      <td>210770</td>\n",
       "      <td>Sanctum 2</td>\n",
       "      <td>0.197968</td>\n",
       "      <td>8.020316e-01</td>\n",
       "      <td>12902</td>\n",
       "      <td>0.901333</td>\n",
       "    </tr>\n",
       "    <tr>\n",
       "      <th>8762</th>\n",
       "      <td>460810</td>\n",
       "      <td>Vanquish</td>\n",
       "      <td>0.177617</td>\n",
       "      <td>8.223830e-01</td>\n",
       "      <td>2687</td>\n",
       "      <td>0.878303</td>\n",
       "    </tr>\n",
       "    <tr>\n",
       "      <th>4382</th>\n",
       "      <td>338170</td>\n",
       "      <td>Ratz Instagib</td>\n",
       "      <td>0.179991</td>\n",
       "      <td>8.200088e-01</td>\n",
       "      <td>2505</td>\n",
       "      <td>0.854291</td>\n",
       "    </tr>\n",
       "    <tr>\n",
       "      <th>1467</th>\n",
       "      <td>218620</td>\n",
       "      <td>PAYDAY 2</td>\n",
       "      <td>1.000000</td>\n",
       "      <td>-2.220446e-16</td>\n",
       "      <td>365180</td>\n",
       "      <td>0.845219</td>\n",
       "    </tr>\n",
       "    <tr>\n",
       "      <th>10844</th>\n",
       "      <td>524220</td>\n",
       "      <td>NieR:Automata™</td>\n",
       "      <td>0.186830</td>\n",
       "      <td>8.131701e-01</td>\n",
       "      <td>48801</td>\n",
       "      <td>0.807094</td>\n",
       "    </tr>\n",
       "  </tbody>\n",
       "</table>\n",
       "</div>"
      ],
      "text/plain": [
       "        appid            game  similarity     diversity  vote_count  \\\n",
       "1357   210770       Sanctum 2    0.197968  8.020316e-01       12902   \n",
       "8762   460810        Vanquish    0.177617  8.223830e-01        2687   \n",
       "4382   338170   Ratz Instagib    0.179991  8.200088e-01        2505   \n",
       "1467   218620        PAYDAY 2    1.000000 -2.220446e-16      365180   \n",
       "10844  524220  NieR:Automata™    0.186830  8.131701e-01       48801   \n",
       "\n",
       "       percent_positive_ratings  \n",
       "1357                   0.901333  \n",
       "8762                   0.878303  \n",
       "4382                   0.854291  \n",
       "1467                   0.845219  \n",
       "10844                  0.807094  "
      ]
     },
     "execution_count": 141,
     "metadata": {},
     "output_type": "execute_result"
    }
   ],
   "source": [
    "similar_games = content_recommender('PAYDAY 2', merge_dataset, similarities, \n",
    "                                    rating_threshold=0.80)\n",
    "similar_games.head(5).sort_values(by='percent_positive_ratings',ascending=False)"
   ]
  },
  {
   "cell_type": "markdown",
   "id": "2c2d1ffb",
   "metadata": {},
   "source": [
    "### 3) cosine_similarity with norm"
   ]
  },
  {
   "cell_type": "code",
   "execution_count": 123,
   "id": "99e309dc",
   "metadata": {},
   "outputs": [],
   "source": [
    "# the defult use 64 i will try using float32 but will be have of accuracy \n",
    "normalized_df = tfidf_matrix.astype(np.float32)\n",
    "cosine_sim = cosine_similarity(normalized_df, normalized_df)"
   ]
  },
  {
   "cell_type": "code",
   "execution_count": 124,
   "id": "fac4a179",
   "metadata": {},
   "outputs": [
    {
     "data": {
      "text/html": [
       "<div>\n",
       "<style scoped>\n",
       "    .dataframe tbody tr th:only-of-type {\n",
       "        vertical-align: middle;\n",
       "    }\n",
       "\n",
       "    .dataframe tbody tr th {\n",
       "        vertical-align: top;\n",
       "    }\n",
       "\n",
       "    .dataframe thead th {\n",
       "        text-align: right;\n",
       "    }\n",
       "</style>\n",
       "<table border=\"1\" class=\"dataframe\">\n",
       "  <thead>\n",
       "    <tr style=\"text-align: right;\">\n",
       "      <th></th>\n",
       "      <th>appid</th>\n",
       "      <th>game</th>\n",
       "      <th>similarity</th>\n",
       "      <th>diversity</th>\n",
       "      <th>vote_count</th>\n",
       "      <th>percent_positive_ratings</th>\n",
       "    </tr>\n",
       "  </thead>\n",
       "  <tbody>\n",
       "    <tr>\n",
       "      <th>1357</th>\n",
       "      <td>210770</td>\n",
       "      <td>Sanctum 2</td>\n",
       "      <td>0.197968</td>\n",
       "      <td>0.802032</td>\n",
       "      <td>12902</td>\n",
       "      <td>0.901333</td>\n",
       "    </tr>\n",
       "    <tr>\n",
       "      <th>8762</th>\n",
       "      <td>460810</td>\n",
       "      <td>Vanquish</td>\n",
       "      <td>0.177617</td>\n",
       "      <td>0.822383</td>\n",
       "      <td>2687</td>\n",
       "      <td>0.878303</td>\n",
       "    </tr>\n",
       "    <tr>\n",
       "      <th>4382</th>\n",
       "      <td>338170</td>\n",
       "      <td>Ratz Instagib</td>\n",
       "      <td>0.179991</td>\n",
       "      <td>0.820009</td>\n",
       "      <td>2505</td>\n",
       "      <td>0.854291</td>\n",
       "    </tr>\n",
       "    <tr>\n",
       "      <th>1467</th>\n",
       "      <td>218620</td>\n",
       "      <td>PAYDAY 2</td>\n",
       "      <td>1.000000</td>\n",
       "      <td>0.000000</td>\n",
       "      <td>365180</td>\n",
       "      <td>0.845219</td>\n",
       "    </tr>\n",
       "    <tr>\n",
       "      <th>10844</th>\n",
       "      <td>524220</td>\n",
       "      <td>NieR:Automata™</td>\n",
       "      <td>0.186830</td>\n",
       "      <td>0.813170</td>\n",
       "      <td>48801</td>\n",
       "      <td>0.807094</td>\n",
       "    </tr>\n",
       "  </tbody>\n",
       "</table>\n",
       "</div>"
      ],
      "text/plain": [
       "        appid            game  similarity  diversity  vote_count  \\\n",
       "1357   210770       Sanctum 2    0.197968   0.802032       12902   \n",
       "8762   460810        Vanquish    0.177617   0.822383        2687   \n",
       "4382   338170   Ratz Instagib    0.179991   0.820009        2505   \n",
       "1467   218620        PAYDAY 2    1.000000   0.000000      365180   \n",
       "10844  524220  NieR:Automata™    0.186830   0.813170       48801   \n",
       "\n",
       "       percent_positive_ratings  \n",
       "1357                   0.901333  \n",
       "8762                   0.878303  \n",
       "4382                   0.854291  \n",
       "1467                   0.845219  \n",
       "10844                  0.807094  "
      ]
     },
     "execution_count": 124,
     "metadata": {},
     "output_type": "execute_result"
    }
   ],
   "source": [
    "similar_games = content_recommender2('PAYDAY 2', merge_dataset, cosine_sim, \n",
    "                                    rating_threshold=0.80)\n",
    "similar_games.head(5).sort_values(by='percent_positive_ratings',ascending=False)"
   ]
  },
  {
   "cell_type": "markdown",
   "id": "78debaa3",
   "metadata": {},
   "source": [
    "### 4) linear_kernel"
   ]
  },
  {
   "cell_type": "code",
   "execution_count": 61,
   "id": "61b258f3",
   "metadata": {},
   "outputs": [],
   "source": [
    "lk = linear_kernel(tfidf_matrix, tfidf_matrix)"
   ]
  },
  {
   "cell_type": "code",
   "execution_count": 120,
   "id": "638d6823",
   "metadata": {},
   "outputs": [
    {
     "data": {
      "text/plain": [
       "6655             Let's Sing 2016\n",
       "22256                 Idle Heist\n",
       "21486                Dreadnought\n",
       "3575              The Masterplan\n",
       "4438                     rFactor\n",
       "26886               Grand Battle\n",
       "1982               7 Days to Die\n",
       "1357                   Sanctum 2\n",
       "12648    DRAGON QUEST HEROES™ II\n",
       "8928                     Colosse\n",
       "Name: name, dtype: object"
      ]
     },
     "execution_count": 120,
     "metadata": {},
     "output_type": "execute_result"
    }
   ],
   "source": [
    "recomend_game(\"PAYDAY 2\",lk,10)"
   ]
  },
  {
   "cell_type": "code",
   "execution_count": 122,
   "id": "0680145c",
   "metadata": {},
   "outputs": [
    {
     "data": {
      "text/html": [
       "<div>\n",
       "<style scoped>\n",
       "    .dataframe tbody tr th:only-of-type {\n",
       "        vertical-align: middle;\n",
       "    }\n",
       "\n",
       "    .dataframe tbody tr th {\n",
       "        vertical-align: top;\n",
       "    }\n",
       "\n",
       "    .dataframe thead th {\n",
       "        text-align: right;\n",
       "    }\n",
       "</style>\n",
       "<table border=\"1\" class=\"dataframe\">\n",
       "  <thead>\n",
       "    <tr style=\"text-align: right;\">\n",
       "      <th></th>\n",
       "      <th>appid</th>\n",
       "      <th>game</th>\n",
       "      <th>similarity</th>\n",
       "      <th>diversity</th>\n",
       "      <th>vote_count</th>\n",
       "      <th>percent_positive_ratings</th>\n",
       "    </tr>\n",
       "  </thead>\n",
       "  <tbody>\n",
       "    <tr>\n",
       "      <th>1357</th>\n",
       "      <td>210770</td>\n",
       "      <td>Sanctum 2</td>\n",
       "      <td>0.197968</td>\n",
       "      <td>0.802032</td>\n",
       "      <td>12902</td>\n",
       "      <td>0.901333</td>\n",
       "    </tr>\n",
       "    <tr>\n",
       "      <th>8762</th>\n",
       "      <td>460810</td>\n",
       "      <td>Vanquish</td>\n",
       "      <td>0.177617</td>\n",
       "      <td>0.822383</td>\n",
       "      <td>2687</td>\n",
       "      <td>0.878303</td>\n",
       "    </tr>\n",
       "    <tr>\n",
       "      <th>4382</th>\n",
       "      <td>338170</td>\n",
       "      <td>Ratz Instagib</td>\n",
       "      <td>0.179991</td>\n",
       "      <td>0.820009</td>\n",
       "      <td>2505</td>\n",
       "      <td>0.854291</td>\n",
       "    </tr>\n",
       "    <tr>\n",
       "      <th>1467</th>\n",
       "      <td>218620</td>\n",
       "      <td>PAYDAY 2</td>\n",
       "      <td>1.000000</td>\n",
       "      <td>0.000000</td>\n",
       "      <td>365180</td>\n",
       "      <td>0.845219</td>\n",
       "    </tr>\n",
       "    <tr>\n",
       "      <th>10844</th>\n",
       "      <td>524220</td>\n",
       "      <td>NieR:Automata™</td>\n",
       "      <td>0.186830</td>\n",
       "      <td>0.813170</td>\n",
       "      <td>48801</td>\n",
       "      <td>0.807094</td>\n",
       "    </tr>\n",
       "  </tbody>\n",
       "</table>\n",
       "</div>"
      ],
      "text/plain": [
       "        appid            game  similarity  diversity  vote_count  \\\n",
       "1357   210770       Sanctum 2    0.197968   0.802032       12902   \n",
       "8762   460810        Vanquish    0.177617   0.822383        2687   \n",
       "4382   338170   Ratz Instagib    0.179991   0.820009        2505   \n",
       "1467   218620        PAYDAY 2    1.000000   0.000000      365180   \n",
       "10844  524220  NieR:Automata™    0.186830   0.813170       48801   \n",
       "\n",
       "       percent_positive_ratings  \n",
       "1357                   0.901333  \n",
       "8762                   0.878303  \n",
       "4382                   0.854291  \n",
       "1467                   0.845219  \n",
       "10844                  0.807094  "
      ]
     },
     "execution_count": 122,
     "metadata": {},
     "output_type": "execute_result"
    }
   ],
   "source": [
    "similar_games = content_recommender2('PAYDAY 2', merge_dataset, lk, \n",
    "                                    rating_threshold=0.80)\n",
    "similar_games.head(5).sort_values(by='percent_positive_ratings',ascending=False)"
   ]
  },
  {
   "cell_type": "markdown",
   "id": "a9a0cc22",
   "metadata": {},
   "source": [
    "# Pickel"
   ]
  },
  {
   "cell_type": "code",
   "execution_count": 56,
   "id": "57fc6723",
   "metadata": {},
   "outputs": [],
   "source": [
    "filename = 'tfidf_matrix.pkl'\n",
    "pickle.dump(tfidf_matrix, open(filename, 'wb'))"
   ]
  },
  {
   "cell_type": "code",
   "execution_count": 143,
   "id": "95d21d12",
   "metadata": {},
   "outputs": [],
   "source": [
    "filename = 'cosine_similarity_model.pkl'\n",
    "pickle.dump(similarities, open(filename, 'wb'))"
   ]
  },
  {
   "cell_type": "code",
   "execution_count": null,
   "id": "838f2ccb",
   "metadata": {},
   "outputs": [],
   "source": []
  }
 ],
 "metadata": {
  "kernelspec": {
   "display_name": "Python 3",
   "language": "python",
   "name": "python3"
  },
  "language_info": {
   "codemirror_mode": {
    "name": "ipython",
    "version": 3
   },
   "file_extension": ".py",
   "mimetype": "text/x-python",
   "name": "python",
   "nbconvert_exporter": "python",
   "pygments_lexer": "ipython3",
   "version": "3.8.8"
  }
 },
 "nbformat": 4,
 "nbformat_minor": 5
}
